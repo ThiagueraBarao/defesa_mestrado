{
 "cells": [
  {
   "cell_type": "code",
   "execution_count": 1,
   "metadata": {
    "execution": {
     "iopub.execute_input": "2022-04-10T23:28:09.351450Z",
     "iopub.status.busy": "2022-04-10T23:28:09.350448Z",
     "iopub.status.idle": "2022-04-10T23:28:09.837450Z",
     "shell.execute_reply": "2022-04-10T23:28:09.836484Z",
     "shell.execute_reply.started": "2022-04-10T23:28:09.351450Z"
    }
   },
   "outputs": [],
   "source": [
    "import pandas as pd\n",
    "import plotly.express as px"
   ]
  },
  {
   "cell_type": "code",
   "execution_count": 42,
   "metadata": {
    "execution": {
     "iopub.execute_input": "2022-04-10T23:44:07.188272Z",
     "iopub.status.busy": "2022-04-10T23:44:07.187272Z",
     "iopub.status.idle": "2022-04-10T23:44:07.234270Z",
     "shell.execute_reply": "2022-04-10T23:44:07.233302Z",
     "shell.execute_reply.started": "2022-04-10T23:44:07.187272Z"
    }
   },
   "outputs": [
    {
     "data": {
      "text/html": [
       "<div>\n",
       "<style scoped>\n",
       "    .dataframe tbody tr th:only-of-type {\n",
       "        vertical-align: middle;\n",
       "    }\n",
       "\n",
       "    .dataframe tbody tr th {\n",
       "        vertical-align: top;\n",
       "    }\n",
       "\n",
       "    .dataframe thead th {\n",
       "        text-align: right;\n",
       "    }\n",
       "</style>\n",
       "<table border=\"1\" class=\"dataframe\">\n",
       "  <thead>\n",
       "    <tr style=\"text-align: right;\">\n",
       "      <th></th>\n",
       "      <th>file</th>\n",
       "      <th>n_obs</th>\n",
       "      <th>n_ma</th>\n",
       "      <th>n_fold_ts</th>\n",
       "      <th>n_ts</th>\n",
       "      <th>model</th>\n",
       "      <th>mean</th>\n",
       "      <th>sup</th>\n",
       "      <th>inf</th>\n",
       "      <th>ci_inf</th>\n",
       "      <th>ci_sup</th>\n",
       "    </tr>\n",
       "  </thead>\n",
       "  <tbody>\n",
       "    <tr>\n",
       "      <th>0</th>\n",
       "      <td>MAE &amp; n_obs__100 &amp; n_ma__0 &amp; n_fold_ts__85 &amp; n...</td>\n",
       "      <td>100</td>\n",
       "      <td>0</td>\n",
       "      <td>85</td>\n",
       "      <td>2</td>\n",
       "      <td>ARIMA</td>\n",
       "      <td>0.735014</td>\n",
       "      <td>0.693282</td>\n",
       "      <td>0.780176</td>\n",
       "      <td>0.041732</td>\n",
       "      <td>0.045162</td>\n",
       "    </tr>\n",
       "    <tr>\n",
       "      <th>1</th>\n",
       "      <td>MAE &amp; n_obs__100 &amp; n_ma__0 &amp; n_fold_ts__85 &amp; n...</td>\n",
       "      <td>100</td>\n",
       "      <td>0</td>\n",
       "      <td>85</td>\n",
       "      <td>2</td>\n",
       "      <td>VAR</td>\n",
       "      <td>0.779155</td>\n",
       "      <td>0.740454</td>\n",
       "      <td>0.827433</td>\n",
       "      <td>0.038702</td>\n",
       "      <td>0.048278</td>\n",
       "    </tr>\n",
       "    <tr>\n",
       "      <th>2</th>\n",
       "      <td>MAE &amp; n_obs__100 &amp; n_ma__0 &amp; n_fold_ts__85 &amp; n...</td>\n",
       "      <td>100</td>\n",
       "      <td>0</td>\n",
       "      <td>85</td>\n",
       "      <td>2</td>\n",
       "      <td>VEC</td>\n",
       "      <td>0.847400</td>\n",
       "      <td>0.799527</td>\n",
       "      <td>0.902322</td>\n",
       "      <td>0.047873</td>\n",
       "      <td>0.054922</td>\n",
       "    </tr>\n",
       "    <tr>\n",
       "      <th>3</th>\n",
       "      <td>MAE &amp; n_obs__100 &amp; n_ma__0 &amp; n_fold_ts__85 &amp; n...</td>\n",
       "      <td>100</td>\n",
       "      <td>0</td>\n",
       "      <td>85</td>\n",
       "      <td>3</td>\n",
       "      <td>ARIMA</td>\n",
       "      <td>0.747558</td>\n",
       "      <td>0.700584</td>\n",
       "      <td>0.788387</td>\n",
       "      <td>0.046973</td>\n",
       "      <td>0.040830</td>\n",
       "    </tr>\n",
       "    <tr>\n",
       "      <th>4</th>\n",
       "      <td>MAE &amp; n_obs__100 &amp; n_ma__0 &amp; n_fold_ts__85 &amp; n...</td>\n",
       "      <td>100</td>\n",
       "      <td>0</td>\n",
       "      <td>85</td>\n",
       "      <td>3</td>\n",
       "      <td>VAR</td>\n",
       "      <td>0.781117</td>\n",
       "      <td>0.734908</td>\n",
       "      <td>0.829889</td>\n",
       "      <td>0.046209</td>\n",
       "      <td>0.048772</td>\n",
       "    </tr>\n",
       "  </tbody>\n",
       "</table>\n",
       "</div>"
      ],
      "text/plain": [
       "                                                file  n_obs  n_ma  n_fold_ts  \\\n",
       "0  MAE & n_obs__100 & n_ma__0 & n_fold_ts__85 & n...    100     0         85   \n",
       "1  MAE & n_obs__100 & n_ma__0 & n_fold_ts__85 & n...    100     0         85   \n",
       "2  MAE & n_obs__100 & n_ma__0 & n_fold_ts__85 & n...    100     0         85   \n",
       "3  MAE & n_obs__100 & n_ma__0 & n_fold_ts__85 & n...    100     0         85   \n",
       "4  MAE & n_obs__100 & n_ma__0 & n_fold_ts__85 & n...    100     0         85   \n",
       "\n",
       "   n_ts  model      mean       sup       inf    ci_inf    ci_sup  \n",
       "0     2  ARIMA  0.735014  0.693282  0.780176  0.041732  0.045162  \n",
       "1     2    VAR  0.779155  0.740454  0.827433  0.038702  0.048278  \n",
       "2     2    VEC  0.847400  0.799527  0.902322  0.047873  0.054922  \n",
       "3     3  ARIMA  0.747558  0.700584  0.788387  0.046973  0.040830  \n",
       "4     3    VAR  0.781117  0.734908  0.829889  0.046209  0.048772  "
      ]
     },
     "execution_count": 42,
     "metadata": {},
     "output_type": "execute_result"
    }
   ],
   "source": [
    "df = pd.read_excel(\"C:/Users/thiag/Documents/1 -Mestrado/SprintFinal/Defesa/Results/consolidado/MAE/boot.xlsx\")\n",
    "df[\"ci_inf\"] = (df[\"mean\"] - df[\"sup\"])\n",
    "df[\"ci_sup\"] = (df[\"inf\"] - df[\"mean\"])\n",
    "df.head()"
   ]
  },
  {
   "cell_type": "code",
   "execution_count": 72,
   "metadata": {
    "execution": {
     "iopub.execute_input": "2022-04-10T23:55:23.317270Z",
     "iopub.status.busy": "2022-04-10T23:55:23.316270Z",
     "iopub.status.idle": "2022-04-10T23:55:23.505269Z",
     "shell.execute_reply": "2022-04-10T23:55:23.504267Z",
     "shell.execute_reply.started": "2022-04-10T23:55:23.316270Z"
    }
   },
   "outputs": [
    {
     "data": {
      "application/vnd.plotly.v1+json": {
       "config": {
        "plotlyServerURL": "https://plot.ly"
       },
       "data": [
        {
         "error_y": {
          "array": [
           0.04082984383188626
          ],
          "arrayminus": [
           0.04697343357674033
          ]
         },
         "hovertemplate": "model=%{x}<br>n_obs=100<br>n_fold_ts=85<br>mean=%{y}<extra></extra>",
         "legendgroup": "ARIMA",
         "marker": {
          "color": "#636efa",
          "symbol": "circle"
         },
         "mode": "markers",
         "name": "ARIMA",
         "orientation": "v",
         "showlegend": true,
         "type": "scatter",
         "x": [
          "ARIMA"
         ],
         "xaxis": "x7",
         "y": [
          0.747557519492568
         ],
         "yaxis": "y7"
        },
        {
         "error_y": {
          "array": [
           0.04287714317174762
          ],
          "arrayminus": [
           0.043473680171569606
          ]
         },
         "hovertemplate": "model=%{x}<br>n_obs=100<br>n_fold_ts=90<br>mean=%{y}<extra></extra>",
         "legendgroup": "ARIMA",
         "marker": {
          "color": "#636efa",
          "symbol": "circle"
         },
         "mode": "markers",
         "name": "ARIMA",
         "orientation": "v",
         "showlegend": false,
         "type": "scatter",
         "x": [
          "ARIMA"
         ],
         "xaxis": "x8",
         "y": [
          0.6735339047980199
         ],
         "yaxis": "y8"
        },
        {
         "error_y": {
          "array": [
           0.04754454111797368
          ],
          "arrayminus": [
           0.04278882770756176
          ]
         },
         "hovertemplate": "model=%{x}<br>n_obs=100<br>n_fold_ts=95<br>mean=%{y}<extra></extra>",
         "legendgroup": "ARIMA",
         "marker": {
          "color": "#636efa",
          "symbol": "circle"
         },
         "mode": "markers",
         "name": "ARIMA",
         "orientation": "v",
         "showlegend": false,
         "type": "scatter",
         "x": [
          "ARIMA"
         ],
         "xaxis": "x9",
         "y": [
          0.5967564452640085
         ],
         "yaxis": "y9"
        },
        {
         "error_y": {
          "array": [
           0.043698135097492985
          ],
          "arrayminus": [
           0.03666819157449697
          ]
         },
         "hovertemplate": "model=%{x}<br>n_obs=250<br>n_fold_ts=85<br>mean=%{y}<extra></extra>",
         "legendgroup": "ARIMA",
         "marker": {
          "color": "#636efa",
          "symbol": "circle"
         },
         "mode": "markers",
         "name": "ARIMA",
         "orientation": "v",
         "showlegend": false,
         "type": "scatter",
         "x": [
          "ARIMA"
         ],
         "xaxis": "x4",
         "y": [
          0.6639774980454335
         ],
         "yaxis": "y4"
        },
        {
         "error_y": {
          "array": [
           0.04425708836629927
          ],
          "arrayminus": [
           0.03794842500611595
          ]
         },
         "hovertemplate": "model=%{x}<br>n_obs=250<br>n_fold_ts=90<br>mean=%{y}<extra></extra>",
         "legendgroup": "ARIMA",
         "marker": {
          "color": "#636efa",
          "symbol": "circle"
         },
         "mode": "markers",
         "name": "ARIMA",
         "orientation": "v",
         "showlegend": false,
         "type": "scatter",
         "x": [
          "ARIMA"
         ],
         "xaxis": "x5",
         "y": [
          0.6075647534095356
         ],
         "yaxis": "y5"
        },
        {
         "error_y": {
          "array": [
           0.03231418757303062
          ],
          "arrayminus": [
           0.026686387282337187
          ]
         },
         "hovertemplate": "model=%{x}<br>n_obs=250<br>n_fold_ts=95<br>mean=%{y}<extra></extra>",
         "legendgroup": "ARIMA",
         "marker": {
          "color": "#636efa",
          "symbol": "circle"
         },
         "mode": "markers",
         "name": "ARIMA",
         "orientation": "v",
         "showlegend": false,
         "type": "scatter",
         "x": [
          "ARIMA"
         ],
         "xaxis": "x6",
         "y": [
          0.4602998084616876
         ],
         "yaxis": "y6"
        },
        {
         "error_y": {
          "array": [
           0.04398189464723701
          ],
          "arrayminus": [
           0.04689214483508397
          ]
         },
         "hovertemplate": "model=%{x}<br>n_obs=500<br>n_fold_ts=85<br>mean=%{y}<extra></extra>",
         "legendgroup": "ARIMA",
         "marker": {
          "color": "#636efa",
          "symbol": "circle"
         },
         "mode": "markers",
         "name": "ARIMA",
         "orientation": "v",
         "showlegend": false,
         "type": "scatter",
         "x": [
          "ARIMA"
         ],
         "xaxis": "x",
         "y": [
          0.6674320552880334
         ],
         "yaxis": "y"
        },
        {
         "error_y": {
          "array": [
           0.036805915936102274
          ],
          "arrayminus": [
           0.033701592674071246
          ]
         },
         "hovertemplate": "model=%{x}<br>n_obs=500<br>n_fold_ts=90<br>mean=%{y}<extra></extra>",
         "legendgroup": "ARIMA",
         "marker": {
          "color": "#636efa",
          "symbol": "circle"
         },
         "mode": "markers",
         "name": "ARIMA",
         "orientation": "v",
         "showlegend": false,
         "type": "scatter",
         "x": [
          "ARIMA"
         ],
         "xaxis": "x2",
         "y": [
          0.548841577505956
         ],
         "yaxis": "y2"
        },
        {
         "error_y": {
          "array": [
           0.032950616797779775
          ],
          "arrayminus": [
           0.030462760847438985
          ]
         },
         "hovertemplate": "model=%{x}<br>n_obs=500<br>n_fold_ts=95<br>mean=%{y}<extra></extra>",
         "legendgroup": "ARIMA",
         "marker": {
          "color": "#636efa",
          "symbol": "circle"
         },
         "mode": "markers",
         "name": "ARIMA",
         "orientation": "v",
         "showlegend": false,
         "type": "scatter",
         "x": [
          "ARIMA"
         ],
         "xaxis": "x3",
         "y": [
          0.4440049657618616
         ],
         "yaxis": "y3"
        },
        {
         "error_y": {
          "array": [
           0.04877165292934382
          ],
          "arrayminus": [
           0.046209265209536166
          ]
         },
         "hovertemplate": "model=%{x}<br>n_obs=100<br>n_fold_ts=85<br>mean=%{y}<extra></extra>",
         "legendgroup": "VAR",
         "marker": {
          "color": "#EF553B",
          "symbol": "circle"
         },
         "mode": "markers",
         "name": "VAR",
         "orientation": "v",
         "showlegend": true,
         "type": "scatter",
         "x": [
          "VAR"
         ],
         "xaxis": "x7",
         "y": [
          0.7811173608270866
         ],
         "yaxis": "y7"
        },
        {
         "error_y": {
          "array": [
           0.044295111965012235
          ],
          "arrayminus": [
           0.04498327932179025
          ]
         },
         "hovertemplate": "model=%{x}<br>n_obs=100<br>n_fold_ts=90<br>mean=%{y}<extra></extra>",
         "legendgroup": "VAR",
         "marker": {
          "color": "#EF553B",
          "symbol": "circle"
         },
         "mode": "markers",
         "name": "VAR",
         "orientation": "v",
         "showlegend": false,
         "type": "scatter",
         "x": [
          "VAR"
         ],
         "xaxis": "x8",
         "y": [
          0.6997106032258842
         ],
         "yaxis": "y8"
        },
        {
         "error_y": {
          "array": [
           0.04990240101997789
          ],
          "arrayminus": [
           0.04527354344008094
          ]
         },
         "hovertemplate": "model=%{x}<br>n_obs=100<br>n_fold_ts=95<br>mean=%{y}<extra></extra>",
         "legendgroup": "VAR",
         "marker": {
          "color": "#EF553B",
          "symbol": "circle"
         },
         "mode": "markers",
         "name": "VAR",
         "orientation": "v",
         "showlegend": false,
         "type": "scatter",
         "x": [
          "VAR"
         ],
         "xaxis": "x9",
         "y": [
          0.6159115137451932
         ],
         "yaxis": "y9"
        },
        {
         "error_y": {
          "array": [
           0.04648528524050488
          ],
          "arrayminus": [
           0.037769205813100504
          ]
         },
         "hovertemplate": "model=%{x}<br>n_obs=250<br>n_fold_ts=85<br>mean=%{y}<extra></extra>",
         "legendgroup": "VAR",
         "marker": {
          "color": "#EF553B",
          "symbol": "circle"
         },
         "mode": "markers",
         "name": "VAR",
         "orientation": "v",
         "showlegend": false,
         "type": "scatter",
         "x": [
          "VAR"
         ],
         "xaxis": "x4",
         "y": [
          0.7062143372312636
         ],
         "yaxis": "y4"
        },
        {
         "error_y": {
          "array": [
           0.04227858223178915
          ],
          "arrayminus": [
           0.03947823221328972
          ]
         },
         "hovertemplate": "model=%{x}<br>n_obs=250<br>n_fold_ts=90<br>mean=%{y}<extra></extra>",
         "legendgroup": "VAR",
         "marker": {
          "color": "#EF553B",
          "symbol": "circle"
         },
         "mode": "markers",
         "name": "VAR",
         "orientation": "v",
         "showlegend": false,
         "type": "scatter",
         "x": [
          "VAR"
         ],
         "xaxis": "x5",
         "y": [
          0.6198032487288185
         ],
         "yaxis": "y5"
        },
        {
         "error_y": {
          "array": [
           0.03510594693271041
          ],
          "arrayminus": [
           0.0311505729599848
          ]
         },
         "hovertemplate": "model=%{x}<br>n_obs=250<br>n_fold_ts=95<br>mean=%{y}<extra></extra>",
         "legendgroup": "VAR",
         "marker": {
          "color": "#EF553B",
          "symbol": "circle"
         },
         "mode": "markers",
         "name": "VAR",
         "orientation": "v",
         "showlegend": false,
         "type": "scatter",
         "x": [
          "VAR"
         ],
         "xaxis": "x6",
         "y": [
          0.478002979834248
         ],
         "yaxis": "y6"
        },
        {
         "error_y": {
          "array": [
           0.05551746096368704
          ],
          "arrayminus": [
           0.04449076732079815
          ]
         },
         "hovertemplate": "model=%{x}<br>n_obs=500<br>n_fold_ts=85<br>mean=%{y}<extra></extra>",
         "legendgroup": "VAR",
         "marker": {
          "color": "#EF553B",
          "symbol": "circle"
         },
         "mode": "markers",
         "name": "VAR",
         "orientation": "v",
         "showlegend": false,
         "type": "scatter",
         "x": [
          "VAR"
         ],
         "xaxis": "x",
         "y": [
          0.7036641429934021
         ],
         "yaxis": "y"
        },
        {
         "error_y": {
          "array": [
           0.03803689295298818
          ],
          "arrayminus": [
           0.036963450829351485
          ]
         },
         "hovertemplate": "model=%{x}<br>n_obs=500<br>n_fold_ts=90<br>mean=%{y}<extra></extra>",
         "legendgroup": "VAR",
         "marker": {
          "color": "#EF553B",
          "symbol": "circle"
         },
         "mode": "markers",
         "name": "VAR",
         "orientation": "v",
         "showlegend": false,
         "type": "scatter",
         "x": [
          "VAR"
         ],
         "xaxis": "x2",
         "y": [
          0.561206026102679
         ],
         "yaxis": "y2"
        },
        {
         "error_y": {
          "array": [
           0.0353017447425546
          ],
          "arrayminus": [
           0.029560928045045176
          ]
         },
         "hovertemplate": "model=%{x}<br>n_obs=500<br>n_fold_ts=95<br>mean=%{y}<extra></extra>",
         "legendgroup": "VAR",
         "marker": {
          "color": "#EF553B",
          "symbol": "circle"
         },
         "mode": "markers",
         "name": "VAR",
         "orientation": "v",
         "showlegend": false,
         "type": "scatter",
         "x": [
          "VAR"
         ],
         "xaxis": "x3",
         "y": [
          0.4526154853052606
         ],
         "yaxis": "y3"
        },
        {
         "error_y": {
          "array": [
           0.056194479810946496
          ],
          "arrayminus": [
           0.052833870558333995
          ]
         },
         "hovertemplate": "model=%{x}<br>n_obs=100<br>n_fold_ts=85<br>mean=%{y}<extra></extra>",
         "legendgroup": "VEC",
         "marker": {
          "color": "#00cc96",
          "symbol": "circle"
         },
         "mode": "markers",
         "name": "VEC",
         "orientation": "v",
         "showlegend": true,
         "type": "scatter",
         "x": [
          "VEC"
         ],
         "xaxis": "x7",
         "y": [
          0.8550992452534383
         ],
         "yaxis": "y7"
        },
        {
         "error_y": {
          "array": [
           0.052110691590207536
          ],
          "arrayminus": [
           0.0477652520025279
          ]
         },
         "hovertemplate": "model=%{x}<br>n_obs=100<br>n_fold_ts=90<br>mean=%{y}<extra></extra>",
         "legendgroup": "VEC",
         "marker": {
          "color": "#00cc96",
          "symbol": "circle"
         },
         "mode": "markers",
         "name": "VEC",
         "orientation": "v",
         "showlegend": false,
         "type": "scatter",
         "x": [
          "VEC"
         ],
         "xaxis": "x8",
         "y": [
          0.7652038827383909
         ],
         "yaxis": "y8"
        },
        {
         "error_y": {
          "array": [
           0.060964828620139855
          ],
          "arrayminus": [
           0.04948241280191257
          ]
         },
         "hovertemplate": "model=%{x}<br>n_obs=100<br>n_fold_ts=95<br>mean=%{y}<extra></extra>",
         "legendgroup": "VEC",
         "marker": {
          "color": "#00cc96",
          "symbol": "circle"
         },
         "mode": "markers",
         "name": "VEC",
         "orientation": "v",
         "showlegend": false,
         "type": "scatter",
         "x": [
          "VEC"
         ],
         "xaxis": "x9",
         "y": [
          0.6941275929161114
         ],
         "yaxis": "y9"
        },
        {
         "error_y": {
          "array": [
           0.0449716660822157
          ],
          "arrayminus": [
           0.04226953222677132
          ]
         },
         "hovertemplate": "model=%{x}<br>n_obs=250<br>n_fold_ts=85<br>mean=%{y}<extra></extra>",
         "legendgroup": "VEC",
         "marker": {
          "color": "#00cc96",
          "symbol": "circle"
         },
         "mode": "markers",
         "name": "VEC",
         "orientation": "v",
         "showlegend": false,
         "type": "scatter",
         "x": [
          "VEC"
         ],
         "xaxis": "x4",
         "y": [
          0.7037902932400221
         ],
         "yaxis": "y4"
        },
        {
         "error_y": {
          "array": [
           0.044583572996820586
          ],
          "arrayminus": [
           0.03653594399756377
          ]
         },
         "hovertemplate": "model=%{x}<br>n_obs=250<br>n_fold_ts=90<br>mean=%{y}<extra></extra>",
         "legendgroup": "VEC",
         "marker": {
          "color": "#00cc96",
          "symbol": "circle"
         },
         "mode": "markers",
         "name": "VEC",
         "orientation": "v",
         "showlegend": false,
         "type": "scatter",
         "x": [
          "VEC"
         ],
         "xaxis": "x5",
         "y": [
          0.6170594872331351
         ],
         "yaxis": "y5"
        },
        {
         "error_y": {
          "array": [
           0.03230747232654385
          ],
          "arrayminus": [
           0.030640033193609972
          ]
         },
         "hovertemplate": "model=%{x}<br>n_obs=250<br>n_fold_ts=95<br>mean=%{y}<extra></extra>",
         "legendgroup": "VEC",
         "marker": {
          "color": "#00cc96",
          "symbol": "circle"
         },
         "mode": "markers",
         "name": "VEC",
         "orientation": "v",
         "showlegend": false,
         "type": "scatter",
         "x": [
          "VEC"
         ],
         "xaxis": "x6",
         "y": [
          0.4771157255501093
         ],
         "yaxis": "y6"
        },
        {
         "error_y": {
          "array": [
           0.05706202863620313
          ],
          "arrayminus": [
           0.04690875352731094
          ]
         },
         "hovertemplate": "model=%{x}<br>n_obs=500<br>n_fold_ts=85<br>mean=%{y}<extra></extra>",
         "legendgroup": "VEC",
         "marker": {
          "color": "#00cc96",
          "symbol": "circle"
         },
         "mode": "markers",
         "name": "VEC",
         "orientation": "v",
         "showlegend": false,
         "type": "scatter",
         "x": [
          "VEC"
         ],
         "xaxis": "x",
         "y": [
          0.7006619417402519
         ],
         "yaxis": "y"
        },
        {
         "error_y": {
          "array": [
           0.037139067654850866
          ],
          "arrayminus": [
           0.03843963445879439
          ]
         },
         "hovertemplate": "model=%{x}<br>n_obs=500<br>n_fold_ts=90<br>mean=%{y}<extra></extra>",
         "legendgroup": "VEC",
         "marker": {
          "color": "#00cc96",
          "symbol": "circle"
         },
         "mode": "markers",
         "name": "VEC",
         "orientation": "v",
         "showlegend": false,
         "type": "scatter",
         "x": [
          "VEC"
         ],
         "xaxis": "x2",
         "y": [
          0.5609825237928618
         ],
         "yaxis": "y2"
        },
        {
         "error_y": {
          "array": [
           0.035623423007451194
          ],
          "arrayminus": [
           0.031003315662430808
          ]
         },
         "hovertemplate": "model=%{x}<br>n_obs=500<br>n_fold_ts=95<br>mean=%{y}<extra></extra>",
         "legendgroup": "VEC",
         "marker": {
          "color": "#00cc96",
          "symbol": "circle"
         },
         "mode": "markers",
         "name": "VEC",
         "orientation": "v",
         "showlegend": false,
         "type": "scatter",
         "x": [
          "VEC"
         ],
         "xaxis": "x3",
         "y": [
          0.4492964607769064
         ],
         "yaxis": "y3"
        }
       ],
       "layout": {
        "annotations": [
         {
          "font": {},
          "showarrow": false,
          "text": "n_fold_ts=85",
          "x": 0.15666666666666665,
          "xanchor": "center",
          "xref": "paper",
          "y": 0.9999999999999998,
          "yanchor": "bottom",
          "yref": "paper"
         },
         {
          "font": {},
          "showarrow": false,
          "text": "n_fold_ts=90",
          "x": 0.49,
          "xanchor": "center",
          "xref": "paper",
          "y": 0.9999999999999998,
          "yanchor": "bottom",
          "yref": "paper"
         },
         {
          "font": {},
          "showarrow": false,
          "text": "n_fold_ts=95",
          "x": 0.8233333333333333,
          "xanchor": "center",
          "xref": "paper",
          "y": 0.9999999999999998,
          "yanchor": "bottom",
          "yref": "paper"
         },
         {
          "font": {},
          "showarrow": false,
          "text": "n_obs=500",
          "textangle": 90,
          "x": 0.98,
          "xanchor": "left",
          "xref": "paper",
          "y": 0.15666666666666665,
          "yanchor": "middle",
          "yref": "paper"
         },
         {
          "font": {},
          "showarrow": false,
          "text": "n_obs=250",
          "textangle": 90,
          "x": 0.98,
          "xanchor": "left",
          "xref": "paper",
          "y": 0.4999999999999999,
          "yanchor": "middle",
          "yref": "paper"
         },
         {
          "font": {},
          "showarrow": false,
          "text": "n_obs=100",
          "textangle": 90,
          "x": 0.98,
          "xanchor": "left",
          "xref": "paper",
          "y": 0.8433333333333332,
          "yanchor": "middle",
          "yref": "paper"
         }
        ],
        "height": 800,
        "legend": {
         "title": {
          "text": "Model"
         },
         "tracegroupgap": 0
        },
        "margin": {
         "t": 60
        },
        "template": {
         "data": {
          "bar": [
           {
            "error_x": {
             "color": "#2a3f5f"
            },
            "error_y": {
             "color": "#2a3f5f"
            },
            "marker": {
             "line": {
              "color": "#E5ECF6",
              "width": 0.5
             }
            },
            "type": "bar"
           }
          ],
          "barpolar": [
           {
            "marker": {
             "line": {
              "color": "#E5ECF6",
              "width": 0.5
             }
            },
            "type": "barpolar"
           }
          ],
          "carpet": [
           {
            "aaxis": {
             "endlinecolor": "#2a3f5f",
             "gridcolor": "white",
             "linecolor": "white",
             "minorgridcolor": "white",
             "startlinecolor": "#2a3f5f"
            },
            "baxis": {
             "endlinecolor": "#2a3f5f",
             "gridcolor": "white",
             "linecolor": "white",
             "minorgridcolor": "white",
             "startlinecolor": "#2a3f5f"
            },
            "type": "carpet"
           }
          ],
          "choropleth": [
           {
            "colorbar": {
             "outlinewidth": 0,
             "ticks": ""
            },
            "type": "choropleth"
           }
          ],
          "contour": [
           {
            "colorbar": {
             "outlinewidth": 0,
             "ticks": ""
            },
            "colorscale": [
             [
              0,
              "#0d0887"
             ],
             [
              0.1111111111111111,
              "#46039f"
             ],
             [
              0.2222222222222222,
              "#7201a8"
             ],
             [
              0.3333333333333333,
              "#9c179e"
             ],
             [
              0.4444444444444444,
              "#bd3786"
             ],
             [
              0.5555555555555556,
              "#d8576b"
             ],
             [
              0.6666666666666666,
              "#ed7953"
             ],
             [
              0.7777777777777778,
              "#fb9f3a"
             ],
             [
              0.8888888888888888,
              "#fdca26"
             ],
             [
              1,
              "#f0f921"
             ]
            ],
            "type": "contour"
           }
          ],
          "contourcarpet": [
           {
            "colorbar": {
             "outlinewidth": 0,
             "ticks": ""
            },
            "type": "contourcarpet"
           }
          ],
          "heatmap": [
           {
            "colorbar": {
             "outlinewidth": 0,
             "ticks": ""
            },
            "colorscale": [
             [
              0,
              "#0d0887"
             ],
             [
              0.1111111111111111,
              "#46039f"
             ],
             [
              0.2222222222222222,
              "#7201a8"
             ],
             [
              0.3333333333333333,
              "#9c179e"
             ],
             [
              0.4444444444444444,
              "#bd3786"
             ],
             [
              0.5555555555555556,
              "#d8576b"
             ],
             [
              0.6666666666666666,
              "#ed7953"
             ],
             [
              0.7777777777777778,
              "#fb9f3a"
             ],
             [
              0.8888888888888888,
              "#fdca26"
             ],
             [
              1,
              "#f0f921"
             ]
            ],
            "type": "heatmap"
           }
          ],
          "heatmapgl": [
           {
            "colorbar": {
             "outlinewidth": 0,
             "ticks": ""
            },
            "colorscale": [
             [
              0,
              "#0d0887"
             ],
             [
              0.1111111111111111,
              "#46039f"
             ],
             [
              0.2222222222222222,
              "#7201a8"
             ],
             [
              0.3333333333333333,
              "#9c179e"
             ],
             [
              0.4444444444444444,
              "#bd3786"
             ],
             [
              0.5555555555555556,
              "#d8576b"
             ],
             [
              0.6666666666666666,
              "#ed7953"
             ],
             [
              0.7777777777777778,
              "#fb9f3a"
             ],
             [
              0.8888888888888888,
              "#fdca26"
             ],
             [
              1,
              "#f0f921"
             ]
            ],
            "type": "heatmapgl"
           }
          ],
          "histogram": [
           {
            "marker": {
             "colorbar": {
              "outlinewidth": 0,
              "ticks": ""
             }
            },
            "type": "histogram"
           }
          ],
          "histogram2d": [
           {
            "colorbar": {
             "outlinewidth": 0,
             "ticks": ""
            },
            "colorscale": [
             [
              0,
              "#0d0887"
             ],
             [
              0.1111111111111111,
              "#46039f"
             ],
             [
              0.2222222222222222,
              "#7201a8"
             ],
             [
              0.3333333333333333,
              "#9c179e"
             ],
             [
              0.4444444444444444,
              "#bd3786"
             ],
             [
              0.5555555555555556,
              "#d8576b"
             ],
             [
              0.6666666666666666,
              "#ed7953"
             ],
             [
              0.7777777777777778,
              "#fb9f3a"
             ],
             [
              0.8888888888888888,
              "#fdca26"
             ],
             [
              1,
              "#f0f921"
             ]
            ],
            "type": "histogram2d"
           }
          ],
          "histogram2dcontour": [
           {
            "colorbar": {
             "outlinewidth": 0,
             "ticks": ""
            },
            "colorscale": [
             [
              0,
              "#0d0887"
             ],
             [
              0.1111111111111111,
              "#46039f"
             ],
             [
              0.2222222222222222,
              "#7201a8"
             ],
             [
              0.3333333333333333,
              "#9c179e"
             ],
             [
              0.4444444444444444,
              "#bd3786"
             ],
             [
              0.5555555555555556,
              "#d8576b"
             ],
             [
              0.6666666666666666,
              "#ed7953"
             ],
             [
              0.7777777777777778,
              "#fb9f3a"
             ],
             [
              0.8888888888888888,
              "#fdca26"
             ],
             [
              1,
              "#f0f921"
             ]
            ],
            "type": "histogram2dcontour"
           }
          ],
          "mesh3d": [
           {
            "colorbar": {
             "outlinewidth": 0,
             "ticks": ""
            },
            "type": "mesh3d"
           }
          ],
          "parcoords": [
           {
            "line": {
             "colorbar": {
              "outlinewidth": 0,
              "ticks": ""
             }
            },
            "type": "parcoords"
           }
          ],
          "pie": [
           {
            "automargin": true,
            "type": "pie"
           }
          ],
          "scatter": [
           {
            "marker": {
             "colorbar": {
              "outlinewidth": 0,
              "ticks": ""
             }
            },
            "type": "scatter"
           }
          ],
          "scatter3d": [
           {
            "line": {
             "colorbar": {
              "outlinewidth": 0,
              "ticks": ""
             }
            },
            "marker": {
             "colorbar": {
              "outlinewidth": 0,
              "ticks": ""
             }
            },
            "type": "scatter3d"
           }
          ],
          "scattercarpet": [
           {
            "marker": {
             "colorbar": {
              "outlinewidth": 0,
              "ticks": ""
             }
            },
            "type": "scattercarpet"
           }
          ],
          "scattergeo": [
           {
            "marker": {
             "colorbar": {
              "outlinewidth": 0,
              "ticks": ""
             }
            },
            "type": "scattergeo"
           }
          ],
          "scattergl": [
           {
            "marker": {
             "colorbar": {
              "outlinewidth": 0,
              "ticks": ""
             }
            },
            "type": "scattergl"
           }
          ],
          "scattermapbox": [
           {
            "marker": {
             "colorbar": {
              "outlinewidth": 0,
              "ticks": ""
             }
            },
            "type": "scattermapbox"
           }
          ],
          "scatterpolar": [
           {
            "marker": {
             "colorbar": {
              "outlinewidth": 0,
              "ticks": ""
             }
            },
            "type": "scatterpolar"
           }
          ],
          "scatterpolargl": [
           {
            "marker": {
             "colorbar": {
              "outlinewidth": 0,
              "ticks": ""
             }
            },
            "type": "scatterpolargl"
           }
          ],
          "scatterternary": [
           {
            "marker": {
             "colorbar": {
              "outlinewidth": 0,
              "ticks": ""
             }
            },
            "type": "scatterternary"
           }
          ],
          "surface": [
           {
            "colorbar": {
             "outlinewidth": 0,
             "ticks": ""
            },
            "colorscale": [
             [
              0,
              "#0d0887"
             ],
             [
              0.1111111111111111,
              "#46039f"
             ],
             [
              0.2222222222222222,
              "#7201a8"
             ],
             [
              0.3333333333333333,
              "#9c179e"
             ],
             [
              0.4444444444444444,
              "#bd3786"
             ],
             [
              0.5555555555555556,
              "#d8576b"
             ],
             [
              0.6666666666666666,
              "#ed7953"
             ],
             [
              0.7777777777777778,
              "#fb9f3a"
             ],
             [
              0.8888888888888888,
              "#fdca26"
             ],
             [
              1,
              "#f0f921"
             ]
            ],
            "type": "surface"
           }
          ],
          "table": [
           {
            "cells": {
             "fill": {
              "color": "#EBF0F8"
             },
             "line": {
              "color": "white"
             }
            },
            "header": {
             "fill": {
              "color": "#C8D4E3"
             },
             "line": {
              "color": "white"
             }
            },
            "type": "table"
           }
          ]
         },
         "layout": {
          "annotationdefaults": {
           "arrowcolor": "#2a3f5f",
           "arrowhead": 0,
           "arrowwidth": 1
          },
          "coloraxis": {
           "colorbar": {
            "outlinewidth": 0,
            "ticks": ""
           }
          },
          "colorscale": {
           "diverging": [
            [
             0,
             "#8e0152"
            ],
            [
             0.1,
             "#c51b7d"
            ],
            [
             0.2,
             "#de77ae"
            ],
            [
             0.3,
             "#f1b6da"
            ],
            [
             0.4,
             "#fde0ef"
            ],
            [
             0.5,
             "#f7f7f7"
            ],
            [
             0.6,
             "#e6f5d0"
            ],
            [
             0.7,
             "#b8e186"
            ],
            [
             0.8,
             "#7fbc41"
            ],
            [
             0.9,
             "#4d9221"
            ],
            [
             1,
             "#276419"
            ]
           ],
           "sequential": [
            [
             0,
             "#0d0887"
            ],
            [
             0.1111111111111111,
             "#46039f"
            ],
            [
             0.2222222222222222,
             "#7201a8"
            ],
            [
             0.3333333333333333,
             "#9c179e"
            ],
            [
             0.4444444444444444,
             "#bd3786"
            ],
            [
             0.5555555555555556,
             "#d8576b"
            ],
            [
             0.6666666666666666,
             "#ed7953"
            ],
            [
             0.7777777777777778,
             "#fb9f3a"
            ],
            [
             0.8888888888888888,
             "#fdca26"
            ],
            [
             1,
             "#f0f921"
            ]
           ],
           "sequentialminus": [
            [
             0,
             "#0d0887"
            ],
            [
             0.1111111111111111,
             "#46039f"
            ],
            [
             0.2222222222222222,
             "#7201a8"
            ],
            [
             0.3333333333333333,
             "#9c179e"
            ],
            [
             0.4444444444444444,
             "#bd3786"
            ],
            [
             0.5555555555555556,
             "#d8576b"
            ],
            [
             0.6666666666666666,
             "#ed7953"
            ],
            [
             0.7777777777777778,
             "#fb9f3a"
            ],
            [
             0.8888888888888888,
             "#fdca26"
            ],
            [
             1,
             "#f0f921"
            ]
           ]
          },
          "colorway": [
           "#636efa",
           "#EF553B",
           "#00cc96",
           "#ab63fa",
           "#FFA15A",
           "#19d3f3",
           "#FF6692",
           "#B6E880",
           "#FF97FF",
           "#FECB52"
          ],
          "font": {
           "color": "#2a3f5f"
          },
          "geo": {
           "bgcolor": "white",
           "lakecolor": "white",
           "landcolor": "#E5ECF6",
           "showlakes": true,
           "showland": true,
           "subunitcolor": "white"
          },
          "hoverlabel": {
           "align": "left"
          },
          "hovermode": "closest",
          "mapbox": {
           "style": "light"
          },
          "paper_bgcolor": "white",
          "plot_bgcolor": "#E5ECF6",
          "polar": {
           "angularaxis": {
            "gridcolor": "white",
            "linecolor": "white",
            "ticks": ""
           },
           "bgcolor": "#E5ECF6",
           "radialaxis": {
            "gridcolor": "white",
            "linecolor": "white",
            "ticks": ""
           }
          },
          "scene": {
           "xaxis": {
            "backgroundcolor": "#E5ECF6",
            "gridcolor": "white",
            "gridwidth": 2,
            "linecolor": "white",
            "showbackground": true,
            "ticks": "",
            "zerolinecolor": "white"
           },
           "yaxis": {
            "backgroundcolor": "#E5ECF6",
            "gridcolor": "white",
            "gridwidth": 2,
            "linecolor": "white",
            "showbackground": true,
            "ticks": "",
            "zerolinecolor": "white"
           },
           "zaxis": {
            "backgroundcolor": "#E5ECF6",
            "gridcolor": "white",
            "gridwidth": 2,
            "linecolor": "white",
            "showbackground": true,
            "ticks": "",
            "zerolinecolor": "white"
           }
          },
          "shapedefaults": {
           "line": {
            "color": "#2a3f5f"
           }
          },
          "ternary": {
           "aaxis": {
            "gridcolor": "white",
            "linecolor": "white",
            "ticks": ""
           },
           "baxis": {
            "gridcolor": "white",
            "linecolor": "white",
            "ticks": ""
           },
           "bgcolor": "#E5ECF6",
           "caxis": {
            "gridcolor": "white",
            "linecolor": "white",
            "ticks": ""
           }
          },
          "title": {
           "x": 0.05
          },
          "xaxis": {
           "automargin": true,
           "gridcolor": "white",
           "linecolor": "white",
           "ticks": "",
           "title": {
            "standoff": 15
           },
           "zerolinecolor": "white",
           "zerolinewidth": 2
          },
          "yaxis": {
           "automargin": true,
           "gridcolor": "white",
           "linecolor": "white",
           "ticks": "",
           "title": {
            "standoff": 15
           },
           "zerolinecolor": "white",
           "zerolinewidth": 2
          }
         }
        },
        "title": {
         "text": "Models Performance"
        },
        "width": 1200,
        "xaxis": {
         "anchor": "y",
         "autorange": true,
         "categoryarray": [
          "ARIMA",
          "VAR",
          "VEC"
         ],
         "categoryorder": "array",
         "domain": [
          0,
          0.3133333333333333
         ],
         "range": [
          -0.14143818251074183,
          2.141438182510742
         ],
         "title": {
          "text": "model"
         },
         "type": "category"
        },
        "xaxis2": {
         "anchor": "y2",
         "autorange": true,
         "categoryarray": [
          "ARIMA",
          "VAR",
          "VEC"
         ],
         "categoryorder": "array",
         "domain": [
          0.3333333333333333,
          0.6466666666666666
         ],
         "matches": "x",
         "range": [
          -0.14143818251074183,
          2.141438182510742
         ],
         "title": {
          "text": "model"
         },
         "type": "category"
        },
        "xaxis3": {
         "anchor": "y3",
         "autorange": true,
         "categoryarray": [
          "ARIMA",
          "VAR",
          "VEC"
         ],
         "categoryorder": "array",
         "domain": [
          0.6666666666666666,
          0.98
         ],
         "matches": "x",
         "range": [
          -0.14143818251074183,
          2.141438182510742
         ],
         "title": {
          "text": "model"
         },
         "type": "category"
        },
        "xaxis4": {
         "anchor": "y4",
         "autorange": true,
         "domain": [
          0,
          0.3133333333333333
         ],
         "matches": "x",
         "range": [
          -0.14143818251074183,
          2.141438182510742
         ],
         "showticklabels": false,
         "type": "category"
        },
        "xaxis5": {
         "anchor": "y5",
         "autorange": true,
         "domain": [
          0.3333333333333333,
          0.6466666666666666
         ],
         "matches": "x",
         "range": [
          -0.14143818251074183,
          2.141438182510742
         ],
         "showticklabels": false,
         "type": "category"
        },
        "xaxis6": {
         "anchor": "y6",
         "autorange": true,
         "domain": [
          0.6666666666666666,
          0.98
         ],
         "matches": "x",
         "range": [
          -0.14143818251074183,
          2.141438182510742
         ],
         "showticklabels": false,
         "type": "category"
        },
        "xaxis7": {
         "anchor": "y7",
         "autorange": true,
         "domain": [
          0,
          0.3133333333333333
         ],
         "matches": "x",
         "range": [
          -0.14143818251074183,
          2.141438182510742
         ],
         "showticklabels": false,
         "type": "category"
        },
        "xaxis8": {
         "anchor": "y8",
         "autorange": true,
         "domain": [
          0.3333333333333333,
          0.6466666666666666
         ],
         "matches": "x",
         "range": [
          -0.14143818251074183,
          2.141438182510742
         ],
         "showticklabels": false,
         "type": "category"
        },
        "xaxis9": {
         "anchor": "y9",
         "autorange": true,
         "domain": [
          0.6666666666666666,
          0.98
         ],
         "matches": "x",
         "range": [
          -0.14143818251074183,
          2.141438182510742
         ],
         "showticklabels": false,
         "type": "category"
        },
        "yaxis": {
         "anchor": "x",
         "autorange": true,
         "domain": [
          0,
          0.3133333333333333
         ],
         "range": [
          0.38588934268386915,
          0.9389465872949382
         ],
         "title": {
          "text": "MAE"
         },
         "type": "linear"
        },
        "yaxis2": {
         "anchor": "x2",
         "autorange": true,
         "domain": [
          0,
          0.3133333333333333
         ],
         "matches": "y",
         "range": [
          0.38588934268386915,
          0.9389465872949382
         ],
         "showticklabels": false,
         "type": "linear"
        },
        "yaxis3": {
         "anchor": "x3",
         "autorange": true,
         "domain": [
          0,
          0.3133333333333333
         ],
         "matches": "y",
         "range": [
          0.38588934268386915,
          0.9389465872949382
         ],
         "showticklabels": false,
         "type": "linear"
        },
        "yaxis4": {
         "anchor": "x4",
         "autorange": true,
         "domain": [
          0.34333333333333327,
          0.6566666666666665
         ],
         "matches": "y",
         "range": [
          0.38588934268386915,
          0.9389465872949382
         ],
         "title": {
          "text": "mean"
         },
         "type": "linear"
        },
        "yaxis5": {
         "anchor": "x5",
         "autorange": true,
         "domain": [
          0.34333333333333327,
          0.6566666666666665
         ],
         "matches": "y",
         "range": [
          0.38588934268386915,
          0.9389465872949382
         ],
         "showticklabels": false,
         "type": "linear"
        },
        "yaxis6": {
         "anchor": "x6",
         "autorange": true,
         "domain": [
          0.34333333333333327,
          0.6566666666666665
         ],
         "matches": "y",
         "range": [
          0.38588934268386915,
          0.9389465872949382
         ],
         "showticklabels": false,
         "type": "linear"
        },
        "yaxis7": {
         "anchor": "x7",
         "autorange": true,
         "domain": [
          0.6866666666666665,
          0.9999999999999998
         ],
         "matches": "y",
         "range": [
          0.38588934268386915,
          0.9389465872949382
         ],
         "title": {
          "text": "mean"
         },
         "type": "linear"
        },
        "yaxis8": {
         "anchor": "x8",
         "autorange": true,
         "domain": [
          0.6866666666666665,
          0.9999999999999998
         ],
         "matches": "y",
         "range": [
          0.38588934268386915,
          0.9389465872949382
         ],
         "showticklabels": false,
         "type": "linear"
        },
        "yaxis9": {
         "anchor": "x9",
         "autorange": true,
         "domain": [
          0.6866666666666665,
          0.9999999999999998
         ],
         "matches": "y",
         "range": [
          0.38588934268386915,
          0.9389465872949382
         ],
         "showticklabels": false,
         "type": "linear"
        }
       }
      },
      "image/png": "[encoded data removed]",
      "text/html": [
       "<div>\n",
       "        \n",
       "        \n",
       "            <div id=\"2f9b35c7-3c43-4781-82e4-4f26b58a385e\" class=\"plotly-graph-div\" style=\"height:800px; width:1200px;\"></div>\n",
       "            <script type=\"text/javascript\">\n",
       "                require([\"plotly\"], function(Plotly) {\n",
       "                    window.PLOTLYENV=window.PLOTLYENV || {};\n",
       "                    \n",
       "                if (document.getElementById(\"2f9b35c7-3c43-4781-82e4-4f26b58a385e\")) {\n",
       "                    Plotly.newPlot(\n",
       "                        '2f9b35c7-3c43-4781-82e4-4f26b58a385e',\n",
       "                        [{\"error_y\": {\"array\": [0.04082984383188626], \"arrayminus\": [0.04697343357674033]}, \"hovertemplate\": \"model=%{x}<br>n_obs=100<br>n_fold_ts=85<br>mean=%{y}<extra></extra>\", \"legendgroup\": \"ARIMA\", \"marker\": {\"color\": \"#636efa\", \"symbol\": \"circle\"}, \"mode\": \"markers\", \"name\": \"ARIMA\", \"orientation\": \"v\", \"showlegend\": true, \"type\": \"scatter\", \"x\": [\"ARIMA\"], \"xaxis\": \"x7\", \"y\": [0.747557519492568], \"yaxis\": \"y7\"}, {\"error_y\": {\"array\": [0.04287714317174762], \"arrayminus\": [0.043473680171569606]}, \"hovertemplate\": \"model=%{x}<br>n_obs=100<br>n_fold_ts=90<br>mean=%{y}<extra></extra>\", \"legendgroup\": \"ARIMA\", \"marker\": {\"color\": \"#636efa\", \"symbol\": \"circle\"}, \"mode\": \"markers\", \"name\": \"ARIMA\", \"orientation\": \"v\", \"showlegend\": false, \"type\": \"scatter\", \"x\": [\"ARIMA\"], \"xaxis\": \"x8\", \"y\": [0.6735339047980199], \"yaxis\": \"y8\"}, {\"error_y\": {\"array\": [0.04754454111797368], \"arrayminus\": [0.04278882770756176]}, \"hovertemplate\": \"model=%{x}<br>n_obs=100<br>n_fold_ts=95<br>mean=%{y}<extra></extra>\", \"legendgroup\": \"ARIMA\", \"marker\": {\"color\": \"#636efa\", \"symbol\": \"circle\"}, \"mode\": \"markers\", \"name\": \"ARIMA\", \"orientation\": \"v\", \"showlegend\": false, \"type\": \"scatter\", \"x\": [\"ARIMA\"], \"xaxis\": \"x9\", \"y\": [0.5967564452640085], \"yaxis\": \"y9\"}, {\"error_y\": {\"array\": [0.043698135097492985], \"arrayminus\": [0.03666819157449697]}, \"hovertemplate\": \"model=%{x}<br>n_obs=250<br>n_fold_ts=85<br>mean=%{y}<extra></extra>\", \"legendgroup\": \"ARIMA\", \"marker\": {\"color\": \"#636efa\", \"symbol\": \"circle\"}, \"mode\": \"markers\", \"name\": \"ARIMA\", \"orientation\": \"v\", \"showlegend\": false, \"type\": \"scatter\", \"x\": [\"ARIMA\"], \"xaxis\": \"x4\", \"y\": [0.6639774980454335], \"yaxis\": \"y4\"}, {\"error_y\": {\"array\": [0.04425708836629927], \"arrayminus\": [0.03794842500611595]}, \"hovertemplate\": \"model=%{x}<br>n_obs=250<br>n_fold_ts=90<br>mean=%{y}<extra></extra>\", \"legendgroup\": \"ARIMA\", \"marker\": {\"color\": \"#636efa\", \"symbol\": \"circle\"}, \"mode\": \"markers\", \"name\": \"ARIMA\", \"orientation\": \"v\", \"showlegend\": false, \"type\": \"scatter\", \"x\": [\"ARIMA\"], \"xaxis\": \"x5\", \"y\": [0.6075647534095356], \"yaxis\": \"y5\"}, {\"error_y\": {\"array\": [0.03231418757303062], \"arrayminus\": [0.026686387282337187]}, \"hovertemplate\": \"model=%{x}<br>n_obs=250<br>n_fold_ts=95<br>mean=%{y}<extra></extra>\", \"legendgroup\": \"ARIMA\", \"marker\": {\"color\": \"#636efa\", \"symbol\": \"circle\"}, \"mode\": \"markers\", \"name\": \"ARIMA\", \"orientation\": \"v\", \"showlegend\": false, \"type\": \"scatter\", \"x\": [\"ARIMA\"], \"xaxis\": \"x6\", \"y\": [0.4602998084616876], \"yaxis\": \"y6\"}, {\"error_y\": {\"array\": [0.04398189464723701], \"arrayminus\": [0.04689214483508397]}, \"hovertemplate\": \"model=%{x}<br>n_obs=500<br>n_fold_ts=85<br>mean=%{y}<extra></extra>\", \"legendgroup\": \"ARIMA\", \"marker\": {\"color\": \"#636efa\", \"symbol\": \"circle\"}, \"mode\": \"markers\", \"name\": \"ARIMA\", \"orientation\": \"v\", \"showlegend\": false, \"type\": \"scatter\", \"x\": [\"ARIMA\"], \"xaxis\": \"x\", \"y\": [0.6674320552880334], \"yaxis\": \"y\"}, {\"error_y\": {\"array\": [0.036805915936102274], \"arrayminus\": [0.033701592674071246]}, \"hovertemplate\": \"model=%{x}<br>n_obs=500<br>n_fold_ts=90<br>mean=%{y}<extra></extra>\", \"legendgroup\": \"ARIMA\", \"marker\": {\"color\": \"#636efa\", \"symbol\": \"circle\"}, \"mode\": \"markers\", \"name\": \"ARIMA\", \"orientation\": \"v\", \"showlegend\": false, \"type\": \"scatter\", \"x\": [\"ARIMA\"], \"xaxis\": \"x2\", \"y\": [0.548841577505956], \"yaxis\": \"y2\"}, {\"error_y\": {\"array\": [0.032950616797779775], \"arrayminus\": [0.030462760847438985]}, \"hovertemplate\": \"model=%{x}<br>n_obs=500<br>n_fold_ts=95<br>mean=%{y}<extra></extra>\", \"legendgroup\": \"ARIMA\", \"marker\": {\"color\": \"#636efa\", \"symbol\": \"circle\"}, \"mode\": \"markers\", \"name\": \"ARIMA\", \"orientation\": \"v\", \"showlegend\": false, \"type\": \"scatter\", \"x\": [\"ARIMA\"], \"xaxis\": \"x3\", \"y\": [0.4440049657618616], \"yaxis\": \"y3\"}, {\"error_y\": {\"array\": [0.04877165292934382], \"arrayminus\": [0.046209265209536166]}, \"hovertemplate\": \"model=%{x}<br>n_obs=100<br>n_fold_ts=85<br>mean=%{y}<extra></extra>\", \"legendgroup\": \"VAR\", \"marker\": {\"color\": \"#EF553B\", \"symbol\": \"circle\"}, \"mode\": \"markers\", \"name\": \"VAR\", \"orientation\": \"v\", \"showlegend\": true, \"type\": \"scatter\", \"x\": [\"VAR\"], \"xaxis\": \"x7\", \"y\": [0.7811173608270866], \"yaxis\": \"y7\"}, {\"error_y\": {\"array\": [0.044295111965012235], \"arrayminus\": [0.04498327932179025]}, \"hovertemplate\": \"model=%{x}<br>n_obs=100<br>n_fold_ts=90<br>mean=%{y}<extra></extra>\", \"legendgroup\": \"VAR\", \"marker\": {\"color\": \"#EF553B\", \"symbol\": \"circle\"}, \"mode\": \"markers\", \"name\": \"VAR\", \"orientation\": \"v\", \"showlegend\": false, \"type\": \"scatter\", \"x\": [\"VAR\"], \"xaxis\": \"x8\", \"y\": [0.6997106032258842], \"yaxis\": \"y8\"}, {\"error_y\": {\"array\": [0.04990240101997789], \"arrayminus\": [0.04527354344008094]}, \"hovertemplate\": \"model=%{x}<br>n_obs=100<br>n_fold_ts=95<br>mean=%{y}<extra></extra>\", \"legendgroup\": \"VAR\", \"marker\": {\"color\": \"#EF553B\", \"symbol\": \"circle\"}, \"mode\": \"markers\", \"name\": \"VAR\", \"orientation\": \"v\", \"showlegend\": false, \"type\": \"scatter\", \"x\": [\"VAR\"], \"xaxis\": \"x9\", \"y\": [0.6159115137451932], \"yaxis\": \"y9\"}, {\"error_y\": {\"array\": [0.04648528524050488], \"arrayminus\": [0.037769205813100504]}, \"hovertemplate\": \"model=%{x}<br>n_obs=250<br>n_fold_ts=85<br>mean=%{y}<extra></extra>\", \"legendgroup\": \"VAR\", \"marker\": {\"color\": \"#EF553B\", \"symbol\": \"circle\"}, \"mode\": \"markers\", \"name\": \"VAR\", \"orientation\": \"v\", \"showlegend\": false, \"type\": \"scatter\", \"x\": [\"VAR\"], \"xaxis\": \"x4\", \"y\": [0.7062143372312636], \"yaxis\": \"y4\"}, {\"error_y\": {\"array\": [0.04227858223178915], \"arrayminus\": [0.03947823221328972]}, \"hovertemplate\": \"model=%{x}<br>n_obs=250<br>n_fold_ts=90<br>mean=%{y}<extra></extra>\", \"legendgroup\": \"VAR\", \"marker\": {\"color\": \"#EF553B\", \"symbol\": \"circle\"}, \"mode\": \"markers\", \"name\": \"VAR\", \"orientation\": \"v\", \"showlegend\": false, \"type\": \"scatter\", \"x\": [\"VAR\"], \"xaxis\": \"x5\", \"y\": [0.6198032487288185], \"yaxis\": \"y5\"}, {\"error_y\": {\"array\": [0.03510594693271041], \"arrayminus\": [0.0311505729599848]}, \"hovertemplate\": \"model=%{x}<br>n_obs=250<br>n_fold_ts=95<br>mean=%{y}<extra></extra>\", \"legendgroup\": \"VAR\", \"marker\": {\"color\": \"#EF553B\", \"symbol\": \"circle\"}, \"mode\": \"markers\", \"name\": \"VAR\", \"orientation\": \"v\", \"showlegend\": false, \"type\": \"scatter\", \"x\": [\"VAR\"], \"xaxis\": \"x6\", \"y\": [0.478002979834248], \"yaxis\": \"y6\"}, {\"error_y\": {\"array\": [0.05551746096368704], \"arrayminus\": [0.04449076732079815]}, \"hovertemplate\": \"model=%{x}<br>n_obs=500<br>n_fold_ts=85<br>mean=%{y}<extra></extra>\", \"legendgroup\": \"VAR\", \"marker\": {\"color\": \"#EF553B\", \"symbol\": \"circle\"}, \"mode\": \"markers\", \"name\": \"VAR\", \"orientation\": \"v\", \"showlegend\": false, \"type\": \"scatter\", \"x\": [\"VAR\"], \"xaxis\": \"x\", \"y\": [0.7036641429934021], \"yaxis\": \"y\"}, {\"error_y\": {\"array\": [0.03803689295298818], \"arrayminus\": [0.036963450829351485]}, \"hovertemplate\": \"model=%{x}<br>n_obs=500<br>n_fold_ts=90<br>mean=%{y}<extra></extra>\", \"legendgroup\": \"VAR\", \"marker\": {\"color\": \"#EF553B\", \"symbol\": \"circle\"}, \"mode\": \"markers\", \"name\": \"VAR\", \"orientation\": \"v\", \"showlegend\": false, \"type\": \"scatter\", \"x\": [\"VAR\"], \"xaxis\": \"x2\", \"y\": [0.561206026102679], \"yaxis\": \"y2\"}, {\"error_y\": {\"array\": [0.0353017447425546], \"arrayminus\": [0.029560928045045176]}, \"hovertemplate\": \"model=%{x}<br>n_obs=500<br>n_fold_ts=95<br>mean=%{y}<extra></extra>\", \"legendgroup\": \"VAR\", \"marker\": {\"color\": \"#EF553B\", \"symbol\": \"circle\"}, \"mode\": \"markers\", \"name\": \"VAR\", \"orientation\": \"v\", \"showlegend\": false, \"type\": \"scatter\", \"x\": [\"VAR\"], \"xaxis\": \"x3\", \"y\": [0.4526154853052606], \"yaxis\": \"y3\"}, {\"error_y\": {\"array\": [0.056194479810946496], \"arrayminus\": [0.052833870558333995]}, \"hovertemplate\": \"model=%{x}<br>n_obs=100<br>n_fold_ts=85<br>mean=%{y}<extra></extra>\", \"legendgroup\": \"VEC\", \"marker\": {\"color\": \"#00cc96\", \"symbol\": \"circle\"}, \"mode\": \"markers\", \"name\": \"VEC\", \"orientation\": \"v\", \"showlegend\": true, \"type\": \"scatter\", \"x\": [\"VEC\"], \"xaxis\": \"x7\", \"y\": [0.8550992452534383], \"yaxis\": \"y7\"}, {\"error_y\": {\"array\": [0.052110691590207536], \"arrayminus\": [0.0477652520025279]}, \"hovertemplate\": \"model=%{x}<br>n_obs=100<br>n_fold_ts=90<br>mean=%{y}<extra></extra>\", \"legendgroup\": \"VEC\", \"marker\": {\"color\": \"#00cc96\", \"symbol\": \"circle\"}, \"mode\": \"markers\", \"name\": \"VEC\", \"orientation\": \"v\", \"showlegend\": false, \"type\": \"scatter\", \"x\": [\"VEC\"], \"xaxis\": \"x8\", \"y\": [0.7652038827383909], \"yaxis\": \"y8\"}, {\"error_y\": {\"array\": [0.060964828620139855], \"arrayminus\": [0.04948241280191257]}, \"hovertemplate\": \"model=%{x}<br>n_obs=100<br>n_fold_ts=95<br>mean=%{y}<extra></extra>\", \"legendgroup\": \"VEC\", \"marker\": {\"color\": \"#00cc96\", \"symbol\": \"circle\"}, \"mode\": \"markers\", \"name\": \"VEC\", \"orientation\": \"v\", \"showlegend\": false, \"type\": \"scatter\", \"x\": [\"VEC\"], \"xaxis\": \"x9\", \"y\": [0.6941275929161114], \"yaxis\": \"y9\"}, {\"error_y\": {\"array\": [0.0449716660822157], \"arrayminus\": [0.04226953222677132]}, \"hovertemplate\": \"model=%{x}<br>n_obs=250<br>n_fold_ts=85<br>mean=%{y}<extra></extra>\", \"legendgroup\": \"VEC\", \"marker\": {\"color\": \"#00cc96\", \"symbol\": \"circle\"}, \"mode\": \"markers\", \"name\": \"VEC\", \"orientation\": \"v\", \"showlegend\": false, \"type\": \"scatter\", \"x\": [\"VEC\"], \"xaxis\": \"x4\", \"y\": [0.7037902932400221], \"yaxis\": \"y4\"}, {\"error_y\": {\"array\": [0.044583572996820586], \"arrayminus\": [0.03653594399756377]}, \"hovertemplate\": \"model=%{x}<br>n_obs=250<br>n_fold_ts=90<br>mean=%{y}<extra></extra>\", \"legendgroup\": \"VEC\", \"marker\": {\"color\": \"#00cc96\", \"symbol\": \"circle\"}, \"mode\": \"markers\", \"name\": \"VEC\", \"orientation\": \"v\", \"showlegend\": false, \"type\": \"scatter\", \"x\": [\"VEC\"], \"xaxis\": \"x5\", \"y\": [0.6170594872331351], \"yaxis\": \"y5\"}, {\"error_y\": {\"array\": [0.03230747232654385], \"arrayminus\": [0.030640033193609972]}, \"hovertemplate\": \"model=%{x}<br>n_obs=250<br>n_fold_ts=95<br>mean=%{y}<extra></extra>\", \"legendgroup\": \"VEC\", \"marker\": {\"color\": \"#00cc96\", \"symbol\": \"circle\"}, \"mode\": \"markers\", \"name\": \"VEC\", \"orientation\": \"v\", \"showlegend\": false, \"type\": \"scatter\", \"x\": [\"VEC\"], \"xaxis\": \"x6\", \"y\": [0.4771157255501093], \"yaxis\": \"y6\"}, {\"error_y\": {\"array\": [0.05706202863620313], \"arrayminus\": [0.04690875352731094]}, \"hovertemplate\": \"model=%{x}<br>n_obs=500<br>n_fold_ts=85<br>mean=%{y}<extra></extra>\", \"legendgroup\": \"VEC\", \"marker\": {\"color\": \"#00cc96\", \"symbol\": \"circle\"}, \"mode\": \"markers\", \"name\": \"VEC\", \"orientation\": \"v\", \"showlegend\": false, \"type\": \"scatter\", \"x\": [\"VEC\"], \"xaxis\": \"x\", \"y\": [0.7006619417402519], \"yaxis\": \"y\"}, {\"error_y\": {\"array\": [0.037139067654850866], \"arrayminus\": [0.03843963445879439]}, \"hovertemplate\": \"model=%{x}<br>n_obs=500<br>n_fold_ts=90<br>mean=%{y}<extra></extra>\", \"legendgroup\": \"VEC\", \"marker\": {\"color\": \"#00cc96\", \"symbol\": \"circle\"}, \"mode\": \"markers\", \"name\": \"VEC\", \"orientation\": \"v\", \"showlegend\": false, \"type\": \"scatter\", \"x\": [\"VEC\"], \"xaxis\": \"x2\", \"y\": [0.5609825237928618], \"yaxis\": \"y2\"}, {\"error_y\": {\"array\": [0.035623423007451194], \"arrayminus\": [0.031003315662430808]}, \"hovertemplate\": \"model=%{x}<br>n_obs=500<br>n_fold_ts=95<br>mean=%{y}<extra></extra>\", \"legendgroup\": \"VEC\", \"marker\": {\"color\": \"#00cc96\", \"symbol\": \"circle\"}, \"mode\": \"markers\", \"name\": \"VEC\", \"orientation\": \"v\", \"showlegend\": false, \"type\": \"scatter\", \"x\": [\"VEC\"], \"xaxis\": \"x3\", \"y\": [0.4492964607769064], \"yaxis\": \"y3\"}],\n",
       "                        {\"annotations\": [{\"font\": {}, \"showarrow\": false, \"text\": \"n_fold_ts=85\", \"x\": 0.15666666666666665, \"xanchor\": \"center\", \"xref\": \"paper\", \"y\": 0.9999999999999998, \"yanchor\": \"bottom\", \"yref\": \"paper\"}, {\"font\": {}, \"showarrow\": false, \"text\": \"n_fold_ts=90\", \"x\": 0.49, \"xanchor\": \"center\", \"xref\": \"paper\", \"y\": 0.9999999999999998, \"yanchor\": \"bottom\", \"yref\": \"paper\"}, {\"font\": {}, \"showarrow\": false, \"text\": \"n_fold_ts=95\", \"x\": 0.8233333333333333, \"xanchor\": \"center\", \"xref\": \"paper\", \"y\": 0.9999999999999998, \"yanchor\": \"bottom\", \"yref\": \"paper\"}, {\"font\": {}, \"showarrow\": false, \"text\": \"n_obs=500\", \"textangle\": 90, \"x\": 0.98, \"xanchor\": \"left\", \"xref\": \"paper\", \"y\": 0.15666666666666665, \"yanchor\": \"middle\", \"yref\": \"paper\"}, {\"font\": {}, \"showarrow\": false, \"text\": \"n_obs=250\", \"textangle\": 90, \"x\": 0.98, \"xanchor\": \"left\", \"xref\": \"paper\", \"y\": 0.4999999999999999, \"yanchor\": \"middle\", \"yref\": \"paper\"}, {\"font\": {}, \"showarrow\": false, \"text\": \"n_obs=100\", \"textangle\": 90, \"x\": 0.98, \"xanchor\": \"left\", \"xref\": \"paper\", \"y\": 0.8433333333333332, \"yanchor\": \"middle\", \"yref\": \"paper\"}], \"height\": 800, \"legend\": {\"title\": {\"text\": \"Model\"}, \"tracegroupgap\": 0}, \"margin\": {\"t\": 60}, \"template\": {\"data\": {\"bar\": [{\"error_x\": {\"color\": \"#2a3f5f\"}, \"error_y\": {\"color\": \"#2a3f5f\"}, \"marker\": {\"line\": {\"color\": \"#E5ECF6\", \"width\": 0.5}}, \"type\": \"bar\"}], \"barpolar\": [{\"marker\": {\"line\": {\"color\": \"#E5ECF6\", \"width\": 0.5}}, \"type\": \"barpolar\"}], \"carpet\": [{\"aaxis\": {\"endlinecolor\": \"#2a3f5f\", \"gridcolor\": \"white\", \"linecolor\": \"white\", \"minorgridcolor\": \"white\", \"startlinecolor\": \"#2a3f5f\"}, \"baxis\": {\"endlinecolor\": \"#2a3f5f\", \"gridcolor\": \"white\", \"linecolor\": \"white\", \"minorgridcolor\": \"white\", \"startlinecolor\": \"#2a3f5f\"}, \"type\": \"carpet\"}], \"choropleth\": [{\"colorbar\": {\"outlinewidth\": 0, \"ticks\": \"\"}, \"type\": \"choropleth\"}], \"contour\": [{\"colorbar\": {\"outlinewidth\": 0, \"ticks\": \"\"}, \"colorscale\": [[0.0, \"#0d0887\"], [0.1111111111111111, \"#46039f\"], [0.2222222222222222, \"#7201a8\"], [0.3333333333333333, \"#9c179e\"], [0.4444444444444444, \"#bd3786\"], [0.5555555555555556, \"#d8576b\"], [0.6666666666666666, \"#ed7953\"], [0.7777777777777778, \"#fb9f3a\"], [0.8888888888888888, \"#fdca26\"], [1.0, \"#f0f921\"]], \"type\": \"contour\"}], \"contourcarpet\": [{\"colorbar\": {\"outlinewidth\": 0, \"ticks\": \"\"}, \"type\": \"contourcarpet\"}], \"heatmap\": [{\"colorbar\": {\"outlinewidth\": 0, \"ticks\": \"\"}, \"colorscale\": [[0.0, \"#0d0887\"], [0.1111111111111111, \"#46039f\"], [0.2222222222222222, \"#7201a8\"], [0.3333333333333333, \"#9c179e\"], [0.4444444444444444, \"#bd3786\"], [0.5555555555555556, \"#d8576b\"], [0.6666666666666666, \"#ed7953\"], [0.7777777777777778, \"#fb9f3a\"], [0.8888888888888888, \"#fdca26\"], [1.0, \"#f0f921\"]], \"type\": \"heatmap\"}], \"heatmapgl\": [{\"colorbar\": {\"outlinewidth\": 0, \"ticks\": \"\"}, \"colorscale\": [[0.0, \"#0d0887\"], [0.1111111111111111, \"#46039f\"], [0.2222222222222222, \"#7201a8\"], [0.3333333333333333, \"#9c179e\"], [0.4444444444444444, \"#bd3786\"], [0.5555555555555556, \"#d8576b\"], [0.6666666666666666, \"#ed7953\"], [0.7777777777777778, \"#fb9f3a\"], [0.8888888888888888, \"#fdca26\"], [1.0, \"#f0f921\"]], \"type\": \"heatmapgl\"}], \"histogram\": [{\"marker\": {\"colorbar\": {\"outlinewidth\": 0, \"ticks\": \"\"}}, \"type\": \"histogram\"}], \"histogram2d\": [{\"colorbar\": {\"outlinewidth\": 0, \"ticks\": \"\"}, \"colorscale\": [[0.0, \"#0d0887\"], [0.1111111111111111, \"#46039f\"], [0.2222222222222222, \"#7201a8\"], [0.3333333333333333, \"#9c179e\"], [0.4444444444444444, \"#bd3786\"], [0.5555555555555556, \"#d8576b\"], [0.6666666666666666, \"#ed7953\"], [0.7777777777777778, \"#fb9f3a\"], [0.8888888888888888, \"#fdca26\"], [1.0, \"#f0f921\"]], \"type\": \"histogram2d\"}], \"histogram2dcontour\": [{\"colorbar\": {\"outlinewidth\": 0, \"ticks\": \"\"}, \"colorscale\": [[0.0, \"#0d0887\"], [0.1111111111111111, \"#46039f\"], [0.2222222222222222, \"#7201a8\"], [0.3333333333333333, \"#9c179e\"], [0.4444444444444444, \"#bd3786\"], [0.5555555555555556, \"#d8576b\"], [0.6666666666666666, \"#ed7953\"], [0.7777777777777778, \"#fb9f3a\"], [0.8888888888888888, \"#fdca26\"], [1.0, \"#f0f921\"]], \"type\": \"histogram2dcontour\"}], \"mesh3d\": [{\"colorbar\": {\"outlinewidth\": 0, \"ticks\": \"\"}, \"type\": \"mesh3d\"}], \"parcoords\": [{\"line\": {\"colorbar\": {\"outlinewidth\": 0, \"ticks\": \"\"}}, \"type\": \"parcoords\"}], \"pie\": [{\"automargin\": true, \"type\": \"pie\"}], \"scatter\": [{\"marker\": {\"colorbar\": {\"outlinewidth\": 0, \"ticks\": \"\"}}, \"type\": \"scatter\"}], \"scatter3d\": [{\"line\": {\"colorbar\": {\"outlinewidth\": 0, \"ticks\": \"\"}}, \"marker\": {\"colorbar\": {\"outlinewidth\": 0, \"ticks\": \"\"}}, \"type\": \"scatter3d\"}], \"scattercarpet\": [{\"marker\": {\"colorbar\": {\"outlinewidth\": 0, \"ticks\": \"\"}}, \"type\": \"scattercarpet\"}], \"scattergeo\": [{\"marker\": {\"colorbar\": {\"outlinewidth\": 0, \"ticks\": \"\"}}, \"type\": \"scattergeo\"}], \"scattergl\": [{\"marker\": {\"colorbar\": {\"outlinewidth\": 0, \"ticks\": \"\"}}, \"type\": \"scattergl\"}], \"scattermapbox\": [{\"marker\": {\"colorbar\": {\"outlinewidth\": 0, \"ticks\": \"\"}}, \"type\": \"scattermapbox\"}], \"scatterpolar\": [{\"marker\": {\"colorbar\": {\"outlinewidth\": 0, \"ticks\": \"\"}}, \"type\": \"scatterpolar\"}], \"scatterpolargl\": [{\"marker\": {\"colorbar\": {\"outlinewidth\": 0, \"ticks\": \"\"}}, \"type\": \"scatterpolargl\"}], \"scatterternary\": [{\"marker\": {\"colorbar\": {\"outlinewidth\": 0, \"ticks\": \"\"}}, \"type\": \"scatterternary\"}], \"surface\": [{\"colorbar\": {\"outlinewidth\": 0, \"ticks\": \"\"}, \"colorscale\": [[0.0, \"#0d0887\"], [0.1111111111111111, \"#46039f\"], [0.2222222222222222, \"#7201a8\"], [0.3333333333333333, \"#9c179e\"], [0.4444444444444444, \"#bd3786\"], [0.5555555555555556, \"#d8576b\"], [0.6666666666666666, \"#ed7953\"], [0.7777777777777778, \"#fb9f3a\"], [0.8888888888888888, \"#fdca26\"], [1.0, \"#f0f921\"]], \"type\": \"surface\"}], \"table\": [{\"cells\": {\"fill\": {\"color\": \"#EBF0F8\"}, \"line\": {\"color\": \"white\"}}, \"header\": {\"fill\": {\"color\": \"#C8D4E3\"}, \"line\": {\"color\": \"white\"}}, \"type\": \"table\"}]}, \"layout\": {\"annotationdefaults\": {\"arrowcolor\": \"#2a3f5f\", \"arrowhead\": 0, \"arrowwidth\": 1}, \"coloraxis\": {\"colorbar\": {\"outlinewidth\": 0, \"ticks\": \"\"}}, \"colorscale\": {\"diverging\": [[0, \"#8e0152\"], [0.1, \"#c51b7d\"], [0.2, \"#de77ae\"], [0.3, \"#f1b6da\"], [0.4, \"#fde0ef\"], [0.5, \"#f7f7f7\"], [0.6, \"#e6f5d0\"], [0.7, \"#b8e186\"], [0.8, \"#7fbc41\"], [0.9, \"#4d9221\"], [1, \"#276419\"]], \"sequential\": [[0.0, \"#0d0887\"], [0.1111111111111111, \"#46039f\"], [0.2222222222222222, \"#7201a8\"], [0.3333333333333333, \"#9c179e\"], [0.4444444444444444, \"#bd3786\"], [0.5555555555555556, \"#d8576b\"], [0.6666666666666666, \"#ed7953\"], [0.7777777777777778, \"#fb9f3a\"], [0.8888888888888888, \"#fdca26\"], [1.0, \"#f0f921\"]], \"sequentialminus\": [[0.0, \"#0d0887\"], [0.1111111111111111, \"#46039f\"], [0.2222222222222222, \"#7201a8\"], [0.3333333333333333, \"#9c179e\"], [0.4444444444444444, \"#bd3786\"], [0.5555555555555556, \"#d8576b\"], [0.6666666666666666, \"#ed7953\"], [0.7777777777777778, \"#fb9f3a\"], [0.8888888888888888, \"#fdca26\"], [1.0, \"#f0f921\"]]}, \"colorway\": [\"#636efa\", \"#EF553B\", \"#00cc96\", \"#ab63fa\", \"#FFA15A\", \"#19d3f3\", \"#FF6692\", \"#B6E880\", \"#FF97FF\", \"#FECB52\"], \"font\": {\"color\": \"#2a3f5f\"}, \"geo\": {\"bgcolor\": \"white\", \"lakecolor\": \"white\", \"landcolor\": \"#E5ECF6\", \"showlakes\": true, \"showland\": true, \"subunitcolor\": \"white\"}, \"hoverlabel\": {\"align\": \"left\"}, \"hovermode\": \"closest\", \"mapbox\": {\"style\": \"light\"}, \"paper_bgcolor\": \"white\", \"plot_bgcolor\": \"#E5ECF6\", \"polar\": {\"angularaxis\": {\"gridcolor\": \"white\", \"linecolor\": \"white\", \"ticks\": \"\"}, \"bgcolor\": \"#E5ECF6\", \"radialaxis\": {\"gridcolor\": \"white\", \"linecolor\": \"white\", \"ticks\": \"\"}}, \"scene\": {\"xaxis\": {\"backgroundcolor\": \"#E5ECF6\", \"gridcolor\": \"white\", \"gridwidth\": 2, \"linecolor\": \"white\", \"showbackground\": true, \"ticks\": \"\", \"zerolinecolor\": \"white\"}, \"yaxis\": {\"backgroundcolor\": \"#E5ECF6\", \"gridcolor\": \"white\", \"gridwidth\": 2, \"linecolor\": \"white\", \"showbackground\": true, \"ticks\": \"\", \"zerolinecolor\": \"white\"}, \"zaxis\": {\"backgroundcolor\": \"#E5ECF6\", \"gridcolor\": \"white\", \"gridwidth\": 2, \"linecolor\": \"white\", \"showbackground\": true, \"ticks\": \"\", \"zerolinecolor\": \"white\"}}, \"shapedefaults\": {\"line\": {\"color\": \"#2a3f5f\"}}, \"ternary\": {\"aaxis\": {\"gridcolor\": \"white\", \"linecolor\": \"white\", \"ticks\": \"\"}, \"baxis\": {\"gridcolor\": \"white\", \"linecolor\": \"white\", \"ticks\": \"\"}, \"bgcolor\": \"#E5ECF6\", \"caxis\": {\"gridcolor\": \"white\", \"linecolor\": \"white\", \"ticks\": \"\"}}, \"title\": {\"x\": 0.05}, \"xaxis\": {\"automargin\": true, \"gridcolor\": \"white\", \"linecolor\": \"white\", \"ticks\": \"\", \"title\": {\"standoff\": 15}, \"zerolinecolor\": \"white\", \"zerolinewidth\": 2}, \"yaxis\": {\"automargin\": true, \"gridcolor\": \"white\", \"linecolor\": \"white\", \"ticks\": \"\", \"title\": {\"standoff\": 15}, \"zerolinecolor\": \"white\", \"zerolinewidth\": 2}}}, \"title\": {\"text\": \"Models Performance\"}, \"width\": 1200, \"xaxis\": {\"anchor\": \"y\", \"categoryarray\": [\"ARIMA\", \"VAR\", \"VEC\"], \"categoryorder\": \"array\", \"domain\": [0.0, 0.3133333333333333], \"title\": {\"text\": \"model\"}}, \"xaxis2\": {\"anchor\": \"y2\", \"categoryarray\": [\"ARIMA\", \"VAR\", \"VEC\"], \"categoryorder\": \"array\", \"domain\": [0.3333333333333333, 0.6466666666666666], \"matches\": \"x\", \"title\": {\"text\": \"model\"}}, \"xaxis3\": {\"anchor\": \"y3\", \"categoryarray\": [\"ARIMA\", \"VAR\", \"VEC\"], \"categoryorder\": \"array\", \"domain\": [0.6666666666666666, 0.98], \"matches\": \"x\", \"title\": {\"text\": \"model\"}}, \"xaxis4\": {\"anchor\": \"y4\", \"domain\": [0.0, 0.3133333333333333], \"matches\": \"x\", \"showticklabels\": false}, \"xaxis5\": {\"anchor\": \"y5\", \"domain\": [0.3333333333333333, 0.6466666666666666], \"matches\": \"x\", \"showticklabels\": false}, \"xaxis6\": {\"anchor\": \"y6\", \"domain\": [0.6666666666666666, 0.98], \"matches\": \"x\", \"showticklabels\": false}, \"xaxis7\": {\"anchor\": \"y7\", \"domain\": [0.0, 0.3133333333333333], \"matches\": \"x\", \"showticklabels\": false}, \"xaxis8\": {\"anchor\": \"y8\", \"domain\": [0.3333333333333333, 0.6466666666666666], \"matches\": \"x\", \"showticklabels\": false}, \"xaxis9\": {\"anchor\": \"y9\", \"domain\": [0.6666666666666666, 0.98], \"matches\": \"x\", \"showticklabels\": false}, \"yaxis\": {\"anchor\": \"x\", \"domain\": [0.0, 0.3133333333333333], \"title\": {\"text\": \"MAE\"}}, \"yaxis2\": {\"anchor\": \"x2\", \"domain\": [0.0, 0.3133333333333333], \"matches\": \"y\", \"showticklabels\": false}, \"yaxis3\": {\"anchor\": \"x3\", \"domain\": [0.0, 0.3133333333333333], \"matches\": \"y\", \"showticklabels\": false}, \"yaxis4\": {\"anchor\": \"x4\", \"domain\": [0.34333333333333327, 0.6566666666666665], \"matches\": \"y\", \"title\": {\"text\": \"mean\"}}, \"yaxis5\": {\"anchor\": \"x5\", \"domain\": [0.34333333333333327, 0.6566666666666665], \"matches\": \"y\", \"showticklabels\": false}, \"yaxis6\": {\"anchor\": \"x6\", \"domain\": [0.34333333333333327, 0.6566666666666665], \"matches\": \"y\", \"showticklabels\": false}, \"yaxis7\": {\"anchor\": \"x7\", \"domain\": [0.6866666666666665, 0.9999999999999998], \"matches\": \"y\", \"title\": {\"text\": \"mean\"}}, \"yaxis8\": {\"anchor\": \"x8\", \"domain\": [0.6866666666666665, 0.9999999999999998], \"matches\": \"y\", \"showticklabels\": false}, \"yaxis9\": {\"anchor\": \"x9\", \"domain\": [0.6866666666666665, 0.9999999999999998], \"matches\": \"y\", \"showticklabels\": false}},\n",
       "                        {\"responsive\": true}\n",
       "                    ).then(function(){\n",
       "                            \n",
       "var gd = document.getElementById('2f9b35c7-3c43-4781-82e4-4f26b58a385e');\n",
       "var x = new MutationObserver(function (mutations, observer) {{\n",
       "        var display = window.getComputedStyle(gd).display;\n",
       "        if (!display || display === 'none') {{\n",
       "            console.log([gd, 'removed!']);\n",
       "            Plotly.purge(gd);\n",
       "            observer.disconnect();\n",
       "        }}\n",
       "}});\n",
       "\n",
       "// Listen for the removal of the full notebook cells\n",
       "var notebookContainer = gd.closest('#notebook-container');\n",
       "if (notebookContainer) {{\n",
       "    x.observe(notebookContainer, {childList: true});\n",
       "}}\n",
       "\n",
       "// Listen for the clearing of the current output cell\n",
       "var outputEl = gd.closest('.output');\n",
       "if (outputEl) {{\n",
       "    x.observe(outputEl, {childList: true});\n",
       "}}\n",
       "\n",
       "                        })\n",
       "                };\n",
       "                });\n",
       "            </script>\n",
       "        </div>"
      ]
     },
     "metadata": {},
     "output_type": "display_data"
    }
   ],
   "source": [
    "filter_select = (df.n_ts==3) & (df.n_ma==0)\n",
    "boot_df_ci_filter = df.loc[filter_select].copy()\n",
    "\n",
    "fig = px.scatter(boot_df_ci_filter, x=\"model\", y=\"mean\", color=\"model\", facet_col=\"n_fold_ts\",facet_row=\"n_obs\",error_y=\"ci_sup\",error_y_minus=\"ci_inf\")\n",
    "fig.update_layout(width=1200, height=800)\n",
    "fig.update_layout(title=\"Models Performance\",yaxis_title=\"MAE\",legend_title=\"Model\")\n",
    "fig.show()"
   ]
  },
  {
   "cell_type": "code",
   "execution_count": 74,
   "metadata": {
    "execution": {
     "iopub.execute_input": "2022-04-10T23:55:42.145268Z",
     "iopub.status.busy": "2022-04-10T23:55:42.144271Z",
     "iopub.status.idle": "2022-04-10T23:55:42.157270Z",
     "shell.execute_reply": "2022-04-10T23:55:42.156272Z",
     "shell.execute_reply.started": "2022-04-10T23:55:42.145268Z"
    }
   },
   "outputs": [
    {
     "data": {
      "text/html": [
       "<div>\n",
       "<style scoped>\n",
       "    .dataframe tbody tr th:only-of-type {\n",
       "        vertical-align: middle;\n",
       "    }\n",
       "\n",
       "    .dataframe tbody tr th {\n",
       "        vertical-align: top;\n",
       "    }\n",
       "\n",
       "    .dataframe thead th {\n",
       "        text-align: right;\n",
       "    }\n",
       "</style>\n",
       "<table border=\"1\" class=\"dataframe\">\n",
       "  <thead>\n",
       "    <tr style=\"text-align: right;\">\n",
       "      <th></th>\n",
       "      <th>file</th>\n",
       "      <th>n_obs</th>\n",
       "      <th>n_ma</th>\n",
       "      <th>n_fold_ts</th>\n",
       "      <th>n_ts</th>\n",
       "      <th>model</th>\n",
       "      <th>mean</th>\n",
       "      <th>sup</th>\n",
       "      <th>inf</th>\n",
       "      <th>ci_inf</th>\n",
       "      <th>ci_sup</th>\n",
       "    </tr>\n",
       "  </thead>\n",
       "  <tbody>\n",
       "  </tbody>\n",
       "</table>\n",
       "</div>"
      ],
      "text/plain": [
       "Empty DataFrame\n",
       "Columns: [file, n_obs, n_ma, n_fold_ts, n_ts, model, mean, sup, inf, ci_inf, ci_sup]\n",
       "Index: []"
      ]
     },
     "execution_count": 74,
     "metadata": {},
     "output_type": "execute_result"
    }
   ],
   "source": [
    "boot_df_ci_filter"
   ]
  },
  {
   "cell_type": "code",
   "execution_count": 78,
   "metadata": {
    "execution": {
     "iopub.execute_input": "2022-04-10T23:56:29.338266Z",
     "iopub.status.busy": "2022-04-10T23:56:29.338266Z",
     "iopub.status.idle": "2022-04-10T23:56:29.446267Z",
     "shell.execute_reply": "2022-04-10T23:56:29.445266Z",
     "shell.execute_reply.started": "2022-04-10T23:56:29.338266Z"
    }
   },
   "outputs": [
    {
     "data": {
      "application/vnd.plotly.v1+json": {
       "config": {
        "plotlyServerURL": "https://plot.ly"
       },
       "data": [
        {
         "error_y": {
          "array": [
           0.03521535485409555
          ],
          "arrayminus": [
           0.028466534207951588
          ]
         },
         "hovertemplate": "model=%{x}<br>n_ts=2<br>n_ma=0<br>mean=%{y}<extra></extra>",
         "legendgroup": "ARIMA",
         "marker": {
          "color": "#636efa",
          "symbol": "circle"
         },
         "mode": "markers",
         "name": "ARIMA",
         "orientation": "v",
         "showlegend": true,
         "type": "scatter",
         "x": [
          "ARIMA"
         ],
         "xaxis": "x3",
         "y": [
          0.4998326401134351
         ],
         "yaxis": "y3"
        },
        {
         "error_y": {
          "array": [
           0.01881440114687602
          ],
          "arrayminus": [
           0.015451480833195502
          ]
         },
         "hovertemplate": "model=%{x}<br>n_ts=2<br>n_ma=12<br>mean=%{y}<extra></extra>",
         "legendgroup": "ARIMA",
         "marker": {
          "color": "#636efa",
          "symbol": "circle"
         },
         "mode": "markers",
         "name": "ARIMA",
         "orientation": "v",
         "showlegend": false,
         "type": "scatter",
         "x": [
          "ARIMA"
         ],
         "xaxis": "x4",
         "y": [
          0.1919373739715091
         ],
         "yaxis": "y4"
        },
        {
         "error_y": {
          "array": [
           0.03231418757303062
          ],
          "arrayminus": [
           0.026686387282337187
          ]
         },
         "hovertemplate": "model=%{x}<br>n_ts=3<br>n_ma=0<br>mean=%{y}<extra></extra>",
         "legendgroup": "ARIMA",
         "marker": {
          "color": "#636efa",
          "symbol": "circle"
         },
         "mode": "markers",
         "name": "ARIMA",
         "orientation": "v",
         "showlegend": false,
         "type": "scatter",
         "x": [
          "ARIMA"
         ],
         "xaxis": "x",
         "y": [
          0.4602998084616876
         ],
         "yaxis": "y"
        },
        {
         "error_y": {
          "array": [
           0.020192272404064904
          ],
          "arrayminus": [
           0.0192867894446338
          ]
         },
         "hovertemplate": "model=%{x}<br>n_ts=3<br>n_ma=12<br>mean=%{y}<extra></extra>",
         "legendgroup": "ARIMA",
         "marker": {
          "color": "#636efa",
          "symbol": "circle"
         },
         "mode": "markers",
         "name": "ARIMA",
         "orientation": "v",
         "showlegend": false,
         "type": "scatter",
         "x": [
          "ARIMA"
         ],
         "xaxis": "x2",
         "y": [
          0.2095021707329393
         ],
         "yaxis": "y2"
        },
        {
         "error_y": {
          "array": [
           0.0319987259496492
          ],
          "arrayminus": [
           0.02747068291902721
          ]
         },
         "hovertemplate": "model=%{x}<br>n_ts=2<br>n_ma=0<br>mean=%{y}<extra></extra>",
         "legendgroup": "VAR",
         "marker": {
          "color": "#EF553B",
          "symbol": "circle"
         },
         "mode": "markers",
         "name": "VAR",
         "orientation": "v",
         "showlegend": true,
         "type": "scatter",
         "x": [
          "VAR"
         ],
         "xaxis": "x3",
         "y": [
          0.4999774729725848
         ],
         "yaxis": "y3"
        },
        {
         "error_y": {
          "array": [
           0.03623503659683902
          ],
          "arrayminus": [
           0.03348996178436786
          ]
         },
         "hovertemplate": "model=%{x}<br>n_ts=2<br>n_ma=12<br>mean=%{y}<extra></extra>",
         "legendgroup": "VAR",
         "marker": {
          "color": "#EF553B",
          "symbol": "circle"
         },
         "mode": "markers",
         "name": "VAR",
         "orientation": "v",
         "showlegend": false,
         "type": "scatter",
         "x": [
          "VAR"
         ],
         "xaxis": "x4",
         "y": [
          0.397863087879365
         ],
         "yaxis": "y4"
        },
        {
         "error_y": {
          "array": [
           0.03510594693271041
          ],
          "arrayminus": [
           0.0311505729599848
          ]
         },
         "hovertemplate": "model=%{x}<br>n_ts=3<br>n_ma=0<br>mean=%{y}<extra></extra>",
         "legendgroup": "VAR",
         "marker": {
          "color": "#EF553B",
          "symbol": "circle"
         },
         "mode": "markers",
         "name": "VAR",
         "orientation": "v",
         "showlegend": false,
         "type": "scatter",
         "x": [
          "VAR"
         ],
         "xaxis": "x",
         "y": [
          0.478002979834248
         ],
         "yaxis": "y"
        },
        {
         "error_y": {
          "array": [
           0.04353403270474199
          ],
          "arrayminus": [
           0.034011692590572684
          ]
         },
         "hovertemplate": "model=%{x}<br>n_ts=3<br>n_ma=12<br>mean=%{y}<extra></extra>",
         "legendgroup": "VAR",
         "marker": {
          "color": "#EF553B",
          "symbol": "circle"
         },
         "mode": "markers",
         "name": "VAR",
         "orientation": "v",
         "showlegend": false,
         "type": "scatter",
         "x": [
          "VAR"
         ],
         "xaxis": "x2",
         "y": [
          0.4172699110408134
         ],
         "yaxis": "y2"
        },
        {
         "error_y": {
          "array": [
           0.03460442714847445
          ],
          "arrayminus": [
           0.027814154318168638
          ]
         },
         "hovertemplate": "model=%{x}<br>n_ts=2<br>n_ma=0<br>mean=%{y}<extra></extra>",
         "legendgroup": "VEC",
         "marker": {
          "color": "#00cc96",
          "symbol": "circle"
         },
         "mode": "markers",
         "name": "VEC",
         "orientation": "v",
         "showlegend": true,
         "type": "scatter",
         "x": [
          "VEC"
         ],
         "xaxis": "x3",
         "y": [
          0.5253272316683779
         ],
         "yaxis": "y3"
        },
        {
         "error_y": {
          "array": [
           0.02146775132865031
          ],
          "arrayminus": [
           0.01633444276883378
          ]
         },
         "hovertemplate": "model=%{x}<br>n_ts=2<br>n_ma=12<br>mean=%{y}<extra></extra>",
         "legendgroup": "VEC",
         "marker": {
          "color": "#00cc96",
          "symbol": "circle"
         },
         "mode": "markers",
         "name": "VEC",
         "orientation": "v",
         "showlegend": false,
         "type": "scatter",
         "x": [
          "VEC"
         ],
         "xaxis": "x4",
         "y": [
          0.2029625290230982
         ],
         "yaxis": "y4"
        },
        {
         "error_y": {
          "array": [
           0.03230747232654385
          ],
          "arrayminus": [
           0.030640033193609972
          ]
         },
         "hovertemplate": "model=%{x}<br>n_ts=3<br>n_ma=0<br>mean=%{y}<extra></extra>",
         "legendgroup": "VEC",
         "marker": {
          "color": "#00cc96",
          "symbol": "circle"
         },
         "mode": "markers",
         "name": "VEC",
         "orientation": "v",
         "showlegend": false,
         "type": "scatter",
         "x": [
          "VEC"
         ],
         "xaxis": "x",
         "y": [
          0.4771157255501093
         ],
         "yaxis": "y"
        },
        {
         "error_y": {
          "array": [
           0.023302657373662605
          ],
          "arrayminus": [
           0.017265800746897875
          ]
         },
         "hovertemplate": "model=%{x}<br>n_ts=3<br>n_ma=12<br>mean=%{y}<extra></extra>",
         "legendgroup": "VEC",
         "marker": {
          "color": "#00cc96",
          "symbol": "circle"
         },
         "mode": "markers",
         "name": "VEC",
         "orientation": "v",
         "showlegend": false,
         "type": "scatter",
         "x": [
          "VEC"
         ],
         "xaxis": "x2",
         "y": [
          0.2019366555612732
         ],
         "yaxis": "y2"
        }
       ],
       "layout": {
        "annotations": [
         {
          "font": {},
          "showarrow": false,
          "text": "n_ma=0",
          "x": 0.24,
          "xanchor": "center",
          "xref": "paper",
          "y": 1,
          "yanchor": "bottom",
          "yref": "paper"
         },
         {
          "font": {},
          "showarrow": false,
          "text": "n_ma=12",
          "x": 0.74,
          "xanchor": "center",
          "xref": "paper",
          "y": 1,
          "yanchor": "bottom",
          "yref": "paper"
         },
         {
          "font": {},
          "showarrow": false,
          "text": "n_ts=3",
          "textangle": 90,
          "x": 0.98,
          "xanchor": "left",
          "xref": "paper",
          "y": 0.2425,
          "yanchor": "middle",
          "yref": "paper"
         },
         {
          "font": {},
          "showarrow": false,
          "text": "n_ts=2",
          "textangle": 90,
          "x": 0.98,
          "xanchor": "left",
          "xref": "paper",
          "y": 0.7575000000000001,
          "yanchor": "middle",
          "yref": "paper"
         }
        ],
        "height": 800,
        "legend": {
         "title": {
          "text": "Model"
         },
         "tracegroupgap": 0
        },
        "margin": {
         "t": 60
        },
        "template": {
         "data": {
          "bar": [
           {
            "error_x": {
             "color": "#2a3f5f"
            },
            "error_y": {
             "color": "#2a3f5f"
            },
            "marker": {
             "line": {
              "color": "#E5ECF6",
              "width": 0.5
             }
            },
            "type": "bar"
           }
          ],
          "barpolar": [
           {
            "marker": {
             "line": {
              "color": "#E5ECF6",
              "width": 0.5
             }
            },
            "type": "barpolar"
           }
          ],
          "carpet": [
           {
            "aaxis": {
             "endlinecolor": "#2a3f5f",
             "gridcolor": "white",
             "linecolor": "white",
             "minorgridcolor": "white",
             "startlinecolor": "#2a3f5f"
            },
            "baxis": {
             "endlinecolor": "#2a3f5f",
             "gridcolor": "white",
             "linecolor": "white",
             "minorgridcolor": "white",
             "startlinecolor": "#2a3f5f"
            },
            "type": "carpet"
           }
          ],
          "choropleth": [
           {
            "colorbar": {
             "outlinewidth": 0,
             "ticks": ""
            },
            "type": "choropleth"
           }
          ],
          "contour": [
           {
            "colorbar": {
             "outlinewidth": 0,
             "ticks": ""
            },
            "colorscale": [
             [
              0,
              "#0d0887"
             ],
             [
              0.1111111111111111,
              "#46039f"
             ],
             [
              0.2222222222222222,
              "#7201a8"
             ],
             [
              0.3333333333333333,
              "#9c179e"
             ],
             [
              0.4444444444444444,
              "#bd3786"
             ],
             [
              0.5555555555555556,
              "#d8576b"
             ],
             [
              0.6666666666666666,
              "#ed7953"
             ],
             [
              0.7777777777777778,
              "#fb9f3a"
             ],
             [
              0.8888888888888888,
              "#fdca26"
             ],
             [
              1,
              "#f0f921"
             ]
            ],
            "type": "contour"
           }
          ],
          "contourcarpet": [
           {
            "colorbar": {
             "outlinewidth": 0,
             "ticks": ""
            },
            "type": "contourcarpet"
           }
          ],
          "heatmap": [
           {
            "colorbar": {
             "outlinewidth": 0,
             "ticks": ""
            },
            "colorscale": [
             [
              0,
              "#0d0887"
             ],
             [
              0.1111111111111111,
              "#46039f"
             ],
             [
              0.2222222222222222,
              "#7201a8"
             ],
             [
              0.3333333333333333,
              "#9c179e"
             ],
             [
              0.4444444444444444,
              "#bd3786"
             ],
             [
              0.5555555555555556,
              "#d8576b"
             ],
             [
              0.6666666666666666,
              "#ed7953"
             ],
             [
              0.7777777777777778,
              "#fb9f3a"
             ],
             [
              0.8888888888888888,
              "#fdca26"
             ],
             [
              1,
              "#f0f921"
             ]
            ],
            "type": "heatmap"
           }
          ],
          "heatmapgl": [
           {
            "colorbar": {
             "outlinewidth": 0,
             "ticks": ""
            },
            "colorscale": [
             [
              0,
              "#0d0887"
             ],
             [
              0.1111111111111111,
              "#46039f"
             ],
             [
              0.2222222222222222,
              "#7201a8"
             ],
             [
              0.3333333333333333,
              "#9c179e"
             ],
             [
              0.4444444444444444,
              "#bd3786"
             ],
             [
              0.5555555555555556,
              "#d8576b"
             ],
             [
              0.6666666666666666,
              "#ed7953"
             ],
             [
              0.7777777777777778,
              "#fb9f3a"
             ],
             [
              0.8888888888888888,
              "#fdca26"
             ],
             [
              1,
              "#f0f921"
             ]
            ],
            "type": "heatmapgl"
           }
          ],
          "histogram": [
           {
            "marker": {
             "colorbar": {
              "outlinewidth": 0,
              "ticks": ""
             }
            },
            "type": "histogram"
           }
          ],
          "histogram2d": [
           {
            "colorbar": {
             "outlinewidth": 0,
             "ticks": ""
            },
            "colorscale": [
             [
              0,
              "#0d0887"
             ],
             [
              0.1111111111111111,
              "#46039f"
             ],
             [
              0.2222222222222222,
              "#7201a8"
             ],
             [
              0.3333333333333333,
              "#9c179e"
             ],
             [
              0.4444444444444444,
              "#bd3786"
             ],
             [
              0.5555555555555556,
              "#d8576b"
             ],
             [
              0.6666666666666666,
              "#ed7953"
             ],
             [
              0.7777777777777778,
              "#fb9f3a"
             ],
             [
              0.8888888888888888,
              "#fdca26"
             ],
             [
              1,
              "#f0f921"
             ]
            ],
            "type": "histogram2d"
           }
          ],
          "histogram2dcontour": [
           {
            "colorbar": {
             "outlinewidth": 0,
             "ticks": ""
            },
            "colorscale": [
             [
              0,
              "#0d0887"
             ],
             [
              0.1111111111111111,
              "#46039f"
             ],
             [
              0.2222222222222222,
              "#7201a8"
             ],
             [
              0.3333333333333333,
              "#9c179e"
             ],
             [
              0.4444444444444444,
              "#bd3786"
             ],
             [
              0.5555555555555556,
              "#d8576b"
             ],
             [
              0.6666666666666666,
              "#ed7953"
             ],
             [
              0.7777777777777778,
              "#fb9f3a"
             ],
             [
              0.8888888888888888,
              "#fdca26"
             ],
             [
              1,
              "#f0f921"
             ]
            ],
            "type": "histogram2dcontour"
           }
          ],
          "mesh3d": [
           {
            "colorbar": {
             "outlinewidth": 0,
             "ticks": ""
            },
            "type": "mesh3d"
           }
          ],
          "parcoords": [
           {
            "line": {
             "colorbar": {
              "outlinewidth": 0,
              "ticks": ""
             }
            },
            "type": "parcoords"
           }
          ],
          "pie": [
           {
            "automargin": true,
            "type": "pie"
           }
          ],
          "scatter": [
           {
            "marker": {
             "colorbar": {
              "outlinewidth": 0,
              "ticks": ""
             }
            },
            "type": "scatter"
           }
          ],
          "scatter3d": [
           {
            "line": {
             "colorbar": {
              "outlinewidth": 0,
              "ticks": ""
             }
            },
            "marker": {
             "colorbar": {
              "outlinewidth": 0,
              "ticks": ""
             }
            },
            "type": "scatter3d"
           }
          ],
          "scattercarpet": [
           {
            "marker": {
             "colorbar": {
              "outlinewidth": 0,
              "ticks": ""
             }
            },
            "type": "scattercarpet"
           }
          ],
          "scattergeo": [
           {
            "marker": {
             "colorbar": {
              "outlinewidth": 0,
              "ticks": ""
             }
            },
            "type": "scattergeo"
           }
          ],
          "scattergl": [
           {
            "marker": {
             "colorbar": {
              "outlinewidth": 0,
              "ticks": ""
             }
            },
            "type": "scattergl"
           }
          ],
          "scattermapbox": [
           {
            "marker": {
             "colorbar": {
              "outlinewidth": 0,
              "ticks": ""
             }
            },
            "type": "scattermapbox"
           }
          ],
          "scatterpolar": [
           {
            "marker": {
             "colorbar": {
              "outlinewidth": 0,
              "ticks": ""
             }
            },
            "type": "scatterpolar"
           }
          ],
          "scatterpolargl": [
           {
            "marker": {
             "colorbar": {
              "outlinewidth": 0,
              "ticks": ""
             }
            },
            "type": "scatterpolargl"
           }
          ],
          "scatterternary": [
           {
            "marker": {
             "colorbar": {
              "outlinewidth": 0,
              "ticks": ""
             }
            },
            "type": "scatterternary"
           }
          ],
          "surface": [
           {
            "colorbar": {
             "outlinewidth": 0,
             "ticks": ""
            },
            "colorscale": [
             [
              0,
              "#0d0887"
             ],
             [
              0.1111111111111111,
              "#46039f"
             ],
             [
              0.2222222222222222,
              "#7201a8"
             ],
             [
              0.3333333333333333,
              "#9c179e"
             ],
             [
              0.4444444444444444,
              "#bd3786"
             ],
             [
              0.5555555555555556,
              "#d8576b"
             ],
             [
              0.6666666666666666,
              "#ed7953"
             ],
             [
              0.7777777777777778,
              "#fb9f3a"
             ],
             [
              0.8888888888888888,
              "#fdca26"
             ],
             [
              1,
              "#f0f921"
             ]
            ],
            "type": "surface"
           }
          ],
          "table": [
           {
            "cells": {
             "fill": {
              "color": "#EBF0F8"
             },
             "line": {
              "color": "white"
             }
            },
            "header": {
             "fill": {
              "color": "#C8D4E3"
             },
             "line": {
              "color": "white"
             }
            },
            "type": "table"
           }
          ]
         },
         "layout": {
          "annotationdefaults": {
           "arrowcolor": "#2a3f5f",
           "arrowhead": 0,
           "arrowwidth": 1
          },
          "coloraxis": {
           "colorbar": {
            "outlinewidth": 0,
            "ticks": ""
           }
          },
          "colorscale": {
           "diverging": [
            [
             0,
             "#8e0152"
            ],
            [
             0.1,
             "#c51b7d"
            ],
            [
             0.2,
             "#de77ae"
            ],
            [
             0.3,
             "#f1b6da"
            ],
            [
             0.4,
             "#fde0ef"
            ],
            [
             0.5,
             "#f7f7f7"
            ],
            [
             0.6,
             "#e6f5d0"
            ],
            [
             0.7,
             "#b8e186"
            ],
            [
             0.8,
             "#7fbc41"
            ],
            [
             0.9,
             "#4d9221"
            ],
            [
             1,
             "#276419"
            ]
           ],
           "sequential": [
            [
             0,
             "#0d0887"
            ],
            [
             0.1111111111111111,
             "#46039f"
            ],
            [
             0.2222222222222222,
             "#7201a8"
            ],
            [
             0.3333333333333333,
             "#9c179e"
            ],
            [
             0.4444444444444444,
             "#bd3786"
            ],
            [
             0.5555555555555556,
             "#d8576b"
            ],
            [
             0.6666666666666666,
             "#ed7953"
            ],
            [
             0.7777777777777778,
             "#fb9f3a"
            ],
            [
             0.8888888888888888,
             "#fdca26"
            ],
            [
             1,
             "#f0f921"
            ]
           ],
           "sequentialminus": [
            [
             0,
             "#0d0887"
            ],
            [
             0.1111111111111111,
             "#46039f"
            ],
            [
             0.2222222222222222,
             "#7201a8"
            ],
            [
             0.3333333333333333,
             "#9c179e"
            ],
            [
             0.4444444444444444,
             "#bd3786"
            ],
            [
             0.5555555555555556,
             "#d8576b"
            ],
            [
             0.6666666666666666,
             "#ed7953"
            ],
            [
             0.7777777777777778,
             "#fb9f3a"
            ],
            [
             0.8888888888888888,
             "#fdca26"
            ],
            [
             1,
             "#f0f921"
            ]
           ]
          },
          "colorway": [
           "#636efa",
           "#EF553B",
           "#00cc96",
           "#ab63fa",
           "#FFA15A",
           "#19d3f3",
           "#FF6692",
           "#B6E880",
           "#FF97FF",
           "#FECB52"
          ],
          "font": {
           "color": "#2a3f5f"
          },
          "geo": {
           "bgcolor": "white",
           "lakecolor": "white",
           "landcolor": "#E5ECF6",
           "showlakes": true,
           "showland": true,
           "subunitcolor": "white"
          },
          "hoverlabel": {
           "align": "left"
          },
          "hovermode": "closest",
          "mapbox": {
           "style": "light"
          },
          "paper_bgcolor": "white",
          "plot_bgcolor": "#E5ECF6",
          "polar": {
           "angularaxis": {
            "gridcolor": "white",
            "linecolor": "white",
            "ticks": ""
           },
           "bgcolor": "#E5ECF6",
           "radialaxis": {
            "gridcolor": "white",
            "linecolor": "white",
            "ticks": ""
           }
          },
          "scene": {
           "xaxis": {
            "backgroundcolor": "#E5ECF6",
            "gridcolor": "white",
            "gridwidth": 2,
            "linecolor": "white",
            "showbackground": true,
            "ticks": "",
            "zerolinecolor": "white"
           },
           "yaxis": {
            "backgroundcolor": "#E5ECF6",
            "gridcolor": "white",
            "gridwidth": 2,
            "linecolor": "white",
            "showbackground": true,
            "ticks": "",
            "zerolinecolor": "white"
           },
           "zaxis": {
            "backgroundcolor": "#E5ECF6",
            "gridcolor": "white",
            "gridwidth": 2,
            "linecolor": "white",
            "showbackground": true,
            "ticks": "",
            "zerolinecolor": "white"
           }
          },
          "shapedefaults": {
           "line": {
            "color": "#2a3f5f"
           }
          },
          "ternary": {
           "aaxis": {
            "gridcolor": "white",
            "linecolor": "white",
            "ticks": ""
           },
           "baxis": {
            "gridcolor": "white",
            "linecolor": "white",
            "ticks": ""
           },
           "bgcolor": "#E5ECF6",
           "caxis": {
            "gridcolor": "white",
            "linecolor": "white",
            "ticks": ""
           }
          },
          "title": {
           "x": 0.05
          },
          "xaxis": {
           "automargin": true,
           "gridcolor": "white",
           "linecolor": "white",
           "ticks": "",
           "title": {
            "standoff": 15
           },
           "zerolinecolor": "white",
           "zerolinewidth": 2
          },
          "yaxis": {
           "automargin": true,
           "gridcolor": "white",
           "linecolor": "white",
           "ticks": "",
           "title": {
            "standoff": 15
           },
           "zerolinecolor": "white",
           "zerolinewidth": 2
          }
         }
        },
        "title": {
         "text": "Models Performance"
        },
        "width": 1200,
        "xaxis": {
         "anchor": "y",
         "autorange": true,
         "categoryarray": [
          "ARIMA",
          "VAR",
          "VEC"
         ],
         "categoryorder": "array",
         "domain": [
          0,
          0.48
         ],
         "range": [
          -0.1307220920053091,
          2.130722092005309
         ],
         "title": {
          "text": "model"
         },
         "type": "category"
        },
        "xaxis2": {
         "anchor": "y2",
         "autorange": true,
         "categoryarray": [
          "ARIMA",
          "VAR",
          "VEC"
         ],
         "categoryorder": "array",
         "domain": [
          0.5,
          0.98
         ],
         "matches": "x",
         "range": [
          -0.1307220920053091,
          2.130722092005309
         ],
         "title": {
          "text": "model"
         },
         "type": "category"
        },
        "xaxis3": {
         "anchor": "y3",
         "autorange": true,
         "domain": [
          0,
          0.48
         ],
         "matches": "x",
         "range": [
          -0.1307220920053091,
          2.130722092005309
         ],
         "showticklabels": false,
         "type": "category"
        },
        "xaxis4": {
         "anchor": "y4",
         "autorange": true,
         "domain": [
          0.5,
          0.98
         ],
         "matches": "x",
         "range": [
          -0.1307220920053091,
          2.130722092005309
         ],
         "showticklabels": false,
         "type": "category"
        },
        "yaxis": {
         "anchor": "x",
         "autorange": true,
         "domain": [
          0,
          0.485
         ],
         "range": [
          0.155183350600617,
          0.581234201354549
         ],
         "title": {
          "text": "MAE"
         },
         "type": "linear"
        },
        "yaxis2": {
         "anchor": "x2",
         "autorange": true,
         "domain": [
          0,
          0.485
         ],
         "matches": "y",
         "range": [
          0.155183350600617,
          0.581234201354549
         ],
         "showticklabels": false,
         "type": "linear"
        },
        "yaxis3": {
         "anchor": "x3",
         "autorange": true,
         "domain": [
          0.515,
          1
         ],
         "matches": "y",
         "range": [
          0.155183350600617,
          0.581234201354549
         ],
         "title": {
          "text": "mean"
         },
         "type": "linear"
        },
        "yaxis4": {
         "anchor": "x4",
         "autorange": true,
         "domain": [
          0.515,
          1
         ],
         "matches": "y",
         "range": [
          0.155183350600617,
          0.581234201354549
         ],
         "showticklabels": false,
         "type": "linear"
        }
       }
      },
      "image/png": "[encoded data removed]",
      "text/html": [
       "<div>\n",
       "        \n",
       "        \n",
       "            <div id=\"7d735e38-94ee-4781-b3ce-d8a12e8b8ff9\" class=\"plotly-graph-div\" style=\"height:800px; width:1200px;\"></div>\n",
       "            <script type=\"text/javascript\">\n",
       "                require([\"plotly\"], function(Plotly) {\n",
       "                    window.PLOTLYENV=window.PLOTLYENV || {};\n",
       "                    \n",
       "                if (document.getElementById(\"7d735e38-94ee-4781-b3ce-d8a12e8b8ff9\")) {\n",
       "                    Plotly.newPlot(\n",
       "                        '7d735e38-94ee-4781-b3ce-d8a12e8b8ff9',\n",
       "                        [{\"error_y\": {\"array\": [0.03521535485409555], \"arrayminus\": [0.028466534207951588]}, \"hovertemplate\": \"model=%{x}<br>n_ts=2<br>n_ma=0<br>mean=%{y}<extra></extra>\", \"legendgroup\": \"ARIMA\", \"marker\": {\"color\": \"#636efa\", \"symbol\": \"circle\"}, \"mode\": \"markers\", \"name\": \"ARIMA\", \"orientation\": \"v\", \"showlegend\": true, \"type\": \"scatter\", \"x\": [\"ARIMA\"], \"xaxis\": \"x3\", \"y\": [0.4998326401134351], \"yaxis\": \"y3\"}, {\"error_y\": {\"array\": [0.01881440114687602], \"arrayminus\": [0.015451480833195502]}, \"hovertemplate\": \"model=%{x}<br>n_ts=2<br>n_ma=12<br>mean=%{y}<extra></extra>\", \"legendgroup\": \"ARIMA\", \"marker\": {\"color\": \"#636efa\", \"symbol\": \"circle\"}, \"mode\": \"markers\", \"name\": \"ARIMA\", \"orientation\": \"v\", \"showlegend\": false, \"type\": \"scatter\", \"x\": [\"ARIMA\"], \"xaxis\": \"x4\", \"y\": [0.1919373739715091], \"yaxis\": \"y4\"}, {\"error_y\": {\"array\": [0.03231418757303062], \"arrayminus\": [0.026686387282337187]}, \"hovertemplate\": \"model=%{x}<br>n_ts=3<br>n_ma=0<br>mean=%{y}<extra></extra>\", \"legendgroup\": \"ARIMA\", \"marker\": {\"color\": \"#636efa\", \"symbol\": \"circle\"}, \"mode\": \"markers\", \"name\": \"ARIMA\", \"orientation\": \"v\", \"showlegend\": false, \"type\": \"scatter\", \"x\": [\"ARIMA\"], \"xaxis\": \"x\", \"y\": [0.4602998084616876], \"yaxis\": \"y\"}, {\"error_y\": {\"array\": [0.020192272404064904], \"arrayminus\": [0.0192867894446338]}, \"hovertemplate\": \"model=%{x}<br>n_ts=3<br>n_ma=12<br>mean=%{y}<extra></extra>\", \"legendgroup\": \"ARIMA\", \"marker\": {\"color\": \"#636efa\", \"symbol\": \"circle\"}, \"mode\": \"markers\", \"name\": \"ARIMA\", \"orientation\": \"v\", \"showlegend\": false, \"type\": \"scatter\", \"x\": [\"ARIMA\"], \"xaxis\": \"x2\", \"y\": [0.2095021707329393], \"yaxis\": \"y2\"}, {\"error_y\": {\"array\": [0.0319987259496492], \"arrayminus\": [0.02747068291902721]}, \"hovertemplate\": \"model=%{x}<br>n_ts=2<br>n_ma=0<br>mean=%{y}<extra></extra>\", \"legendgroup\": \"VAR\", \"marker\": {\"color\": \"#EF553B\", \"symbol\": \"circle\"}, \"mode\": \"markers\", \"name\": \"VAR\", \"orientation\": \"v\", \"showlegend\": true, \"type\": \"scatter\", \"x\": [\"VAR\"], \"xaxis\": \"x3\", \"y\": [0.4999774729725848], \"yaxis\": \"y3\"}, {\"error_y\": {\"array\": [0.03623503659683902], \"arrayminus\": [0.03348996178436786]}, \"hovertemplate\": \"model=%{x}<br>n_ts=2<br>n_ma=12<br>mean=%{y}<extra></extra>\", \"legendgroup\": \"VAR\", \"marker\": {\"color\": \"#EF553B\", \"symbol\": \"circle\"}, \"mode\": \"markers\", \"name\": \"VAR\", \"orientation\": \"v\", \"showlegend\": false, \"type\": \"scatter\", \"x\": [\"VAR\"], \"xaxis\": \"x4\", \"y\": [0.397863087879365], \"yaxis\": \"y4\"}, {\"error_y\": {\"array\": [0.03510594693271041], \"arrayminus\": [0.0311505729599848]}, \"hovertemplate\": \"model=%{x}<br>n_ts=3<br>n_ma=0<br>mean=%{y}<extra></extra>\", \"legendgroup\": \"VAR\", \"marker\": {\"color\": \"#EF553B\", \"symbol\": \"circle\"}, \"mode\": \"markers\", \"name\": \"VAR\", \"orientation\": \"v\", \"showlegend\": false, \"type\": \"scatter\", \"x\": [\"VAR\"], \"xaxis\": \"x\", \"y\": [0.478002979834248], \"yaxis\": \"y\"}, {\"error_y\": {\"array\": [0.04353403270474199], \"arrayminus\": [0.034011692590572684]}, \"hovertemplate\": \"model=%{x}<br>n_ts=3<br>n_ma=12<br>mean=%{y}<extra></extra>\", \"legendgroup\": \"VAR\", \"marker\": {\"color\": \"#EF553B\", \"symbol\": \"circle\"}, \"mode\": \"markers\", \"name\": \"VAR\", \"orientation\": \"v\", \"showlegend\": false, \"type\": \"scatter\", \"x\": [\"VAR\"], \"xaxis\": \"x2\", \"y\": [0.4172699110408134], \"yaxis\": \"y2\"}, {\"error_y\": {\"array\": [0.03460442714847445], \"arrayminus\": [0.027814154318168638]}, \"hovertemplate\": \"model=%{x}<br>n_ts=2<br>n_ma=0<br>mean=%{y}<extra></extra>\", \"legendgroup\": \"VEC\", \"marker\": {\"color\": \"#00cc96\", \"symbol\": \"circle\"}, \"mode\": \"markers\", \"name\": \"VEC\", \"orientation\": \"v\", \"showlegend\": true, \"type\": \"scatter\", \"x\": [\"VEC\"], \"xaxis\": \"x3\", \"y\": [0.5253272316683779], \"yaxis\": \"y3\"}, {\"error_y\": {\"array\": [0.02146775132865031], \"arrayminus\": [0.01633444276883378]}, \"hovertemplate\": \"model=%{x}<br>n_ts=2<br>n_ma=12<br>mean=%{y}<extra></extra>\", \"legendgroup\": \"VEC\", \"marker\": {\"color\": \"#00cc96\", \"symbol\": \"circle\"}, \"mode\": \"markers\", \"name\": \"VEC\", \"orientation\": \"v\", \"showlegend\": false, \"type\": \"scatter\", \"x\": [\"VEC\"], \"xaxis\": \"x4\", \"y\": [0.2029625290230982], \"yaxis\": \"y4\"}, {\"error_y\": {\"array\": [0.03230747232654385], \"arrayminus\": [0.030640033193609972]}, \"hovertemplate\": \"model=%{x}<br>n_ts=3<br>n_ma=0<br>mean=%{y}<extra></extra>\", \"legendgroup\": \"VEC\", \"marker\": {\"color\": \"#00cc96\", \"symbol\": \"circle\"}, \"mode\": \"markers\", \"name\": \"VEC\", \"orientation\": \"v\", \"showlegend\": false, \"type\": \"scatter\", \"x\": [\"VEC\"], \"xaxis\": \"x\", \"y\": [0.4771157255501093], \"yaxis\": \"y\"}, {\"error_y\": {\"array\": [0.023302657373662605], \"arrayminus\": [0.017265800746897875]}, \"hovertemplate\": \"model=%{x}<br>n_ts=3<br>n_ma=12<br>mean=%{y}<extra></extra>\", \"legendgroup\": \"VEC\", \"marker\": {\"color\": \"#00cc96\", \"symbol\": \"circle\"}, \"mode\": \"markers\", \"name\": \"VEC\", \"orientation\": \"v\", \"showlegend\": false, \"type\": \"scatter\", \"x\": [\"VEC\"], \"xaxis\": \"x2\", \"y\": [0.2019366555612732], \"yaxis\": \"y2\"}],\n",
       "                        {\"annotations\": [{\"font\": {}, \"showarrow\": false, \"text\": \"n_ma=0\", \"x\": 0.24, \"xanchor\": \"center\", \"xref\": \"paper\", \"y\": 1.0, \"yanchor\": \"bottom\", \"yref\": \"paper\"}, {\"font\": {}, \"showarrow\": false, \"text\": \"n_ma=12\", \"x\": 0.74, \"xanchor\": \"center\", \"xref\": \"paper\", \"y\": 1.0, \"yanchor\": \"bottom\", \"yref\": \"paper\"}, {\"font\": {}, \"showarrow\": false, \"text\": \"n_ts=3\", \"textangle\": 90, \"x\": 0.98, \"xanchor\": \"left\", \"xref\": \"paper\", \"y\": 0.2425, \"yanchor\": \"middle\", \"yref\": \"paper\"}, {\"font\": {}, \"showarrow\": false, \"text\": \"n_ts=2\", \"textangle\": 90, \"x\": 0.98, \"xanchor\": \"left\", \"xref\": \"paper\", \"y\": 0.7575000000000001, \"yanchor\": \"middle\", \"yref\": \"paper\"}], \"height\": 800, \"legend\": {\"title\": {\"text\": \"Model\"}, \"tracegroupgap\": 0}, \"margin\": {\"t\": 60}, \"template\": {\"data\": {\"bar\": [{\"error_x\": {\"color\": \"#2a3f5f\"}, \"error_y\": {\"color\": \"#2a3f5f\"}, \"marker\": {\"line\": {\"color\": \"#E5ECF6\", \"width\": 0.5}}, \"type\": \"bar\"}], \"barpolar\": [{\"marker\": {\"line\": {\"color\": \"#E5ECF6\", \"width\": 0.5}}, \"type\": \"barpolar\"}], \"carpet\": [{\"aaxis\": {\"endlinecolor\": \"#2a3f5f\", \"gridcolor\": \"white\", \"linecolor\": \"white\", \"minorgridcolor\": \"white\", \"startlinecolor\": \"#2a3f5f\"}, \"baxis\": {\"endlinecolor\": \"#2a3f5f\", \"gridcolor\": \"white\", \"linecolor\": \"white\", \"minorgridcolor\": \"white\", \"startlinecolor\": \"#2a3f5f\"}, \"type\": \"carpet\"}], \"choropleth\": [{\"colorbar\": {\"outlinewidth\": 0, \"ticks\": \"\"}, \"type\": \"choropleth\"}], \"contour\": [{\"colorbar\": {\"outlinewidth\": 0, \"ticks\": \"\"}, \"colorscale\": [[0.0, \"#0d0887\"], [0.1111111111111111, \"#46039f\"], [0.2222222222222222, \"#7201a8\"], [0.3333333333333333, \"#9c179e\"], [0.4444444444444444, \"#bd3786\"], [0.5555555555555556, \"#d8576b\"], [0.6666666666666666, \"#ed7953\"], [0.7777777777777778, \"#fb9f3a\"], [0.8888888888888888, \"#fdca26\"], [1.0, \"#f0f921\"]], \"type\": \"contour\"}], \"contourcarpet\": [{\"colorbar\": {\"outlinewidth\": 0, \"ticks\": \"\"}, \"type\": \"contourcarpet\"}], \"heatmap\": [{\"colorbar\": {\"outlinewidth\": 0, \"ticks\": \"\"}, \"colorscale\": [[0.0, \"#0d0887\"], [0.1111111111111111, \"#46039f\"], [0.2222222222222222, \"#7201a8\"], [0.3333333333333333, \"#9c179e\"], [0.4444444444444444, \"#bd3786\"], [0.5555555555555556, \"#d8576b\"], [0.6666666666666666, \"#ed7953\"], [0.7777777777777778, \"#fb9f3a\"], [0.8888888888888888, \"#fdca26\"], [1.0, \"#f0f921\"]], \"type\": \"heatmap\"}], \"heatmapgl\": [{\"colorbar\": {\"outlinewidth\": 0, \"ticks\": \"\"}, \"colorscale\": [[0.0, \"#0d0887\"], [0.1111111111111111, \"#46039f\"], [0.2222222222222222, \"#7201a8\"], [0.3333333333333333, \"#9c179e\"], [0.4444444444444444, \"#bd3786\"], [0.5555555555555556, \"#d8576b\"], [0.6666666666666666, \"#ed7953\"], [0.7777777777777778, \"#fb9f3a\"], [0.8888888888888888, \"#fdca26\"], [1.0, \"#f0f921\"]], \"type\": \"heatmapgl\"}], \"histogram\": [{\"marker\": {\"colorbar\": {\"outlinewidth\": 0, \"ticks\": \"\"}}, \"type\": \"histogram\"}], \"histogram2d\": [{\"colorbar\": {\"outlinewidth\": 0, \"ticks\": \"\"}, \"colorscale\": [[0.0, \"#0d0887\"], [0.1111111111111111, \"#46039f\"], [0.2222222222222222, \"#7201a8\"], [0.3333333333333333, \"#9c179e\"], [0.4444444444444444, \"#bd3786\"], [0.5555555555555556, \"#d8576b\"], [0.6666666666666666, \"#ed7953\"], [0.7777777777777778, \"#fb9f3a\"], [0.8888888888888888, \"#fdca26\"], [1.0, \"#f0f921\"]], \"type\": \"histogram2d\"}], \"histogram2dcontour\": [{\"colorbar\": {\"outlinewidth\": 0, \"ticks\": \"\"}, \"colorscale\": [[0.0, \"#0d0887\"], [0.1111111111111111, \"#46039f\"], [0.2222222222222222, \"#7201a8\"], [0.3333333333333333, \"#9c179e\"], [0.4444444444444444, \"#bd3786\"], [0.5555555555555556, \"#d8576b\"], [0.6666666666666666, \"#ed7953\"], [0.7777777777777778, \"#fb9f3a\"], [0.8888888888888888, \"#fdca26\"], [1.0, \"#f0f921\"]], \"type\": \"histogram2dcontour\"}], \"mesh3d\": [{\"colorbar\": {\"outlinewidth\": 0, \"ticks\": \"\"}, \"type\": \"mesh3d\"}], \"parcoords\": [{\"line\": {\"colorbar\": {\"outlinewidth\": 0, \"ticks\": \"\"}}, \"type\": \"parcoords\"}], \"pie\": [{\"automargin\": true, \"type\": \"pie\"}], \"scatter\": [{\"marker\": {\"colorbar\": {\"outlinewidth\": 0, \"ticks\": \"\"}}, \"type\": \"scatter\"}], \"scatter3d\": [{\"line\": {\"colorbar\": {\"outlinewidth\": 0, \"ticks\": \"\"}}, \"marker\": {\"colorbar\": {\"outlinewidth\": 0, \"ticks\": \"\"}}, \"type\": \"scatter3d\"}], \"scattercarpet\": [{\"marker\": {\"colorbar\": {\"outlinewidth\": 0, \"ticks\": \"\"}}, \"type\": \"scattercarpet\"}], \"scattergeo\": [{\"marker\": {\"colorbar\": {\"outlinewidth\": 0, \"ticks\": \"\"}}, \"type\": \"scattergeo\"}], \"scattergl\": [{\"marker\": {\"colorbar\": {\"outlinewidth\": 0, \"ticks\": \"\"}}, \"type\": \"scattergl\"}], \"scattermapbox\": [{\"marker\": {\"colorbar\": {\"outlinewidth\": 0, \"ticks\": \"\"}}, \"type\": \"scattermapbox\"}], \"scatterpolar\": [{\"marker\": {\"colorbar\": {\"outlinewidth\": 0, \"ticks\": \"\"}}, \"type\": \"scatterpolar\"}], \"scatterpolargl\": [{\"marker\": {\"colorbar\": {\"outlinewidth\": 0, \"ticks\": \"\"}}, \"type\": \"scatterpolargl\"}], \"scatterternary\": [{\"marker\": {\"colorbar\": {\"outlinewidth\": 0, \"ticks\": \"\"}}, \"type\": \"scatterternary\"}], \"surface\": [{\"colorbar\": {\"outlinewidth\": 0, \"ticks\": \"\"}, \"colorscale\": [[0.0, \"#0d0887\"], [0.1111111111111111, \"#46039f\"], [0.2222222222222222, \"#7201a8\"], [0.3333333333333333, \"#9c179e\"], [0.4444444444444444, \"#bd3786\"], [0.5555555555555556, \"#d8576b\"], [0.6666666666666666, \"#ed7953\"], [0.7777777777777778, \"#fb9f3a\"], [0.8888888888888888, \"#fdca26\"], [1.0, \"#f0f921\"]], \"type\": \"surface\"}], \"table\": [{\"cells\": {\"fill\": {\"color\": \"#EBF0F8\"}, \"line\": {\"color\": \"white\"}}, \"header\": {\"fill\": {\"color\": \"#C8D4E3\"}, \"line\": {\"color\": \"white\"}}, \"type\": \"table\"}]}, \"layout\": {\"annotationdefaults\": {\"arrowcolor\": \"#2a3f5f\", \"arrowhead\": 0, \"arrowwidth\": 1}, \"coloraxis\": {\"colorbar\": {\"outlinewidth\": 0, \"ticks\": \"\"}}, \"colorscale\": {\"diverging\": [[0, \"#8e0152\"], [0.1, \"#c51b7d\"], [0.2, \"#de77ae\"], [0.3, \"#f1b6da\"], [0.4, \"#fde0ef\"], [0.5, \"#f7f7f7\"], [0.6, \"#e6f5d0\"], [0.7, \"#b8e186\"], [0.8, \"#7fbc41\"], [0.9, \"#4d9221\"], [1, \"#276419\"]], \"sequential\": [[0.0, \"#0d0887\"], [0.1111111111111111, \"#46039f\"], [0.2222222222222222, \"#7201a8\"], [0.3333333333333333, \"#9c179e\"], [0.4444444444444444, \"#bd3786\"], [0.5555555555555556, \"#d8576b\"], [0.6666666666666666, \"#ed7953\"], [0.7777777777777778, \"#fb9f3a\"], [0.8888888888888888, \"#fdca26\"], [1.0, \"#f0f921\"]], \"sequentialminus\": [[0.0, \"#0d0887\"], [0.1111111111111111, \"#46039f\"], [0.2222222222222222, \"#7201a8\"], [0.3333333333333333, \"#9c179e\"], [0.4444444444444444, \"#bd3786\"], [0.5555555555555556, \"#d8576b\"], [0.6666666666666666, \"#ed7953\"], [0.7777777777777778, \"#fb9f3a\"], [0.8888888888888888, \"#fdca26\"], [1.0, \"#f0f921\"]]}, \"colorway\": [\"#636efa\", \"#EF553B\", \"#00cc96\", \"#ab63fa\", \"#FFA15A\", \"#19d3f3\", \"#FF6692\", \"#B6E880\", \"#FF97FF\", \"#FECB52\"], \"font\": {\"color\": \"#2a3f5f\"}, \"geo\": {\"bgcolor\": \"white\", \"lakecolor\": \"white\", \"landcolor\": \"#E5ECF6\", \"showlakes\": true, \"showland\": true, \"subunitcolor\": \"white\"}, \"hoverlabel\": {\"align\": \"left\"}, \"hovermode\": \"closest\", \"mapbox\": {\"style\": \"light\"}, \"paper_bgcolor\": \"white\", \"plot_bgcolor\": \"#E5ECF6\", \"polar\": {\"angularaxis\": {\"gridcolor\": \"white\", \"linecolor\": \"white\", \"ticks\": \"\"}, \"bgcolor\": \"#E5ECF6\", \"radialaxis\": {\"gridcolor\": \"white\", \"linecolor\": \"white\", \"ticks\": \"\"}}, \"scene\": {\"xaxis\": {\"backgroundcolor\": \"#E5ECF6\", \"gridcolor\": \"white\", \"gridwidth\": 2, \"linecolor\": \"white\", \"showbackground\": true, \"ticks\": \"\", \"zerolinecolor\": \"white\"}, \"yaxis\": {\"backgroundcolor\": \"#E5ECF6\", \"gridcolor\": \"white\", \"gridwidth\": 2, \"linecolor\": \"white\", \"showbackground\": true, \"ticks\": \"\", \"zerolinecolor\": \"white\"}, \"zaxis\": {\"backgroundcolor\": \"#E5ECF6\", \"gridcolor\": \"white\", \"gridwidth\": 2, \"linecolor\": \"white\", \"showbackground\": true, \"ticks\": \"\", \"zerolinecolor\": \"white\"}}, \"shapedefaults\": {\"line\": {\"color\": \"#2a3f5f\"}}, \"ternary\": {\"aaxis\": {\"gridcolor\": \"white\", \"linecolor\": \"white\", \"ticks\": \"\"}, \"baxis\": {\"gridcolor\": \"white\", \"linecolor\": \"white\", \"ticks\": \"\"}, \"bgcolor\": \"#E5ECF6\", \"caxis\": {\"gridcolor\": \"white\", \"linecolor\": \"white\", \"ticks\": \"\"}}, \"title\": {\"x\": 0.05}, \"xaxis\": {\"automargin\": true, \"gridcolor\": \"white\", \"linecolor\": \"white\", \"ticks\": \"\", \"title\": {\"standoff\": 15}, \"zerolinecolor\": \"white\", \"zerolinewidth\": 2}, \"yaxis\": {\"automargin\": true, \"gridcolor\": \"white\", \"linecolor\": \"white\", \"ticks\": \"\", \"title\": {\"standoff\": 15}, \"zerolinecolor\": \"white\", \"zerolinewidth\": 2}}}, \"title\": {\"text\": \"Models Performance\"}, \"width\": 1200, \"xaxis\": {\"anchor\": \"y\", \"categoryarray\": [\"ARIMA\", \"VAR\", \"VEC\"], \"categoryorder\": \"array\", \"domain\": [0.0, 0.48], \"title\": {\"text\": \"model\"}}, \"xaxis2\": {\"anchor\": \"y2\", \"categoryarray\": [\"ARIMA\", \"VAR\", \"VEC\"], \"categoryorder\": \"array\", \"domain\": [0.5, 0.98], \"matches\": \"x\", \"title\": {\"text\": \"model\"}}, \"xaxis3\": {\"anchor\": \"y3\", \"domain\": [0.0, 0.48], \"matches\": \"x\", \"showticklabels\": false}, \"xaxis4\": {\"anchor\": \"y4\", \"domain\": [0.5, 0.98], \"matches\": \"x\", \"showticklabels\": false}, \"yaxis\": {\"anchor\": \"x\", \"domain\": [0.0, 0.485], \"title\": {\"text\": \"MAE\"}}, \"yaxis2\": {\"anchor\": \"x2\", \"domain\": [0.0, 0.485], \"matches\": \"y\", \"showticklabels\": false}, \"yaxis3\": {\"anchor\": \"x3\", \"domain\": [0.515, 1.0], \"matches\": \"y\", \"title\": {\"text\": \"mean\"}}, \"yaxis4\": {\"anchor\": \"x4\", \"domain\": [0.515, 1.0], \"matches\": \"y\", \"showticklabels\": false}},\n",
       "                        {\"responsive\": true}\n",
       "                    ).then(function(){\n",
       "                            \n",
       "var gd = document.getElementById('7d735e38-94ee-4781-b3ce-d8a12e8b8ff9');\n",
       "var x = new MutationObserver(function (mutations, observer) {{\n",
       "        var display = window.getComputedStyle(gd).display;\n",
       "        if (!display || display === 'none') {{\n",
       "            console.log([gd, 'removed!']);\n",
       "            Plotly.purge(gd);\n",
       "            observer.disconnect();\n",
       "        }}\n",
       "}});\n",
       "\n",
       "// Listen for the removal of the full notebook cells\n",
       "var notebookContainer = gd.closest('#notebook-container');\n",
       "if (notebookContainer) {{\n",
       "    x.observe(notebookContainer, {childList: true});\n",
       "}}\n",
       "\n",
       "// Listen for the clearing of the current output cell\n",
       "var outputEl = gd.closest('.output');\n",
       "if (outputEl) {{\n",
       "    x.observe(outputEl, {childList: true});\n",
       "}}\n",
       "\n",
       "                        })\n",
       "                };\n",
       "                });\n",
       "            </script>\n",
       "        </div>"
      ]
     },
     "metadata": {},
     "output_type": "display_data"
    }
   ],
   "source": [
    "filter_select = (df.n_fold_ts==95) & (df.n_obs==250)\n",
    "boot_df_ci_filter = df.loc[filter_select].copy()\n",
    "\n",
    "fig = px.scatter(boot_df_ci_filter, x=\"model\", y=\"mean\", color=\"model\", facet_col=\"n_ma\",facet_row=\"n_ts\",error_y=\"ci_sup\",error_y_minus=\"ci_inf\")\n",
    "fig.update_layout(width=1200, height=800)\n",
    "fig.update_layout(title=\"Models Performance\",yaxis_title=\"MAE\",legend_title=\"Model\")\n",
    "fig.show()"
   ]
  }
 ],
 "metadata": {
  "kernelspec": {
   "display_name": "Python 3",
   "language": "python",
   "name": "python3"
  },
  "language_info": {
   "codemirror_mode": {
    "name": "ipython",
    "version": 3
   },
   "file_extension": ".py",
   "mimetype": "text/x-python",
   "name": "python",
   "nbconvert_exporter": "python",
   "pygments_lexer": "ipython3",
   "version": "3.7.1"
  }
 },
 "nbformat": 4,
 "nbformat_minor": 4
}
