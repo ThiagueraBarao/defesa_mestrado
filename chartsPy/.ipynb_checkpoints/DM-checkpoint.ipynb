{
 "cells": [
  {
   "cell_type": "code",
   "execution_count": null,
   "metadata": {},
   "outputs": [],
   "source": [
    "df_MAE = pd.read_excel(\"C:/Users/thiag/Documents/1 -Mestrado/SprintFinal/Defesa/Results/consolidado/MAE/boot.xlsx\")\n",
    "df_MAE[\"ci_inf\"] = (df_MAE[\"mean\"] - df_MAE[\"sup\"])\n",
    "df_MAE[\"ci_sup\"] = (df_MAE[\"inf\"] - df_MAE[\"mean\"])\n",
    "df_MAE.rename(columns={\"mean\":\"MAE\"},inplace=True)\n",
    "df_MAE.head()\n"
   ]
  }
 ],
 "metadata": {
  "kernelspec": {
   "display_name": "Python 3",
   "language": "python",
   "name": "python3"
  },
  "language_info": {
   "codemirror_mode": {
    "name": "ipython",
    "version": 3
   },
   "file_extension": ".py",
   "mimetype": "text/x-python",
   "name": "python",
   "nbconvert_exporter": "python",
   "pygments_lexer": "ipython3",
   "version": "3.7.1"
  }
 },
 "nbformat": 4,
 "nbformat_minor": 4
}
